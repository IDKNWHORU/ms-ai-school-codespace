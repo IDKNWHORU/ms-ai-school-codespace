{
 "cells": [
  {
   "cell_type": "code",
   "execution_count": 1,
   "metadata": {},
   "outputs": [
    {
     "name": "stdout",
     "output_type": "stream",
     "text": [
      "Collecting folium\n",
      "  Downloading folium-0.17.0-py2.py3-none-any.whl.metadata (3.8 kB)\n",
      "Collecting branca>=0.6.0 (from folium)\n",
      "  Downloading branca-0.7.2-py3-none-any.whl.metadata (1.5 kB)\n",
      "Collecting jinja2>=2.9 (from folium)\n",
      "  Downloading jinja2-3.1.4-py3-none-any.whl.metadata (2.6 kB)\n",
      "Requirement already satisfied: numpy in c:\\users\\user\\appdata\\local\\programs\\python\\python312\\lib\\site-packages (from folium) (2.0.0)\n",
      "Requirement already satisfied: requests in c:\\users\\user\\appdata\\local\\programs\\python\\python312\\lib\\site-packages (from folium) (2.32.3)\n",
      "Collecting xyzservices (from folium)\n",
      "  Downloading xyzservices-2024.6.0-py3-none-any.whl.metadata (4.0 kB)\n",
      "Collecting MarkupSafe>=2.0 (from jinja2>=2.9->folium)\n",
      "  Downloading MarkupSafe-2.1.5-cp312-cp312-win_amd64.whl.metadata (3.1 kB)\n",
      "Requirement already satisfied: charset-normalizer<4,>=2 in c:\\users\\user\\appdata\\local\\programs\\python\\python312\\lib\\site-packages (from requests->folium) (3.3.2)\n",
      "Requirement already satisfied: idna<4,>=2.5 in c:\\users\\user\\appdata\\local\\programs\\python\\python312\\lib\\site-packages (from requests->folium) (3.7)\n",
      "Requirement already satisfied: urllib3<3,>=1.21.1 in c:\\users\\user\\appdata\\local\\programs\\python\\python312\\lib\\site-packages (from requests->folium) (2.2.2)\n",
      "Requirement already satisfied: certifi>=2017.4.17 in c:\\users\\user\\appdata\\local\\programs\\python\\python312\\lib\\site-packages (from requests->folium) (2024.6.2)\n",
      "Downloading folium-0.17.0-py2.py3-none-any.whl (108 kB)\n",
      "   ---------------------------------------- 0.0/108.4 kB ? eta -:--:--\n",
      "   ---------------------------------------- 108.4/108.4 kB 6.1 MB/s eta 0:00:00\n",
      "Downloading branca-0.7.2-py3-none-any.whl (25 kB)\n",
      "Downloading jinja2-3.1.4-py3-none-any.whl (133 kB)\n",
      "   ---------------------------------------- 0.0/133.3 kB ? eta -:--:--\n",
      "   ---------------------------------------- 133.3/133.3 kB 7.7 MB/s eta 0:00:00\n",
      "Downloading xyzservices-2024.6.0-py3-none-any.whl (83 kB)\n",
      "   ---------------------------------------- 0.0/83.9 kB ? eta -:--:--\n",
      "   ---------------------------------------- 83.9/83.9 kB ? eta 0:00:00\n",
      "Downloading MarkupSafe-2.1.5-cp312-cp312-win_amd64.whl (17 kB)\n",
      "Installing collected packages: xyzservices, MarkupSafe, jinja2, branca, folium\n",
      "Successfully installed MarkupSafe-2.1.5 branca-0.7.2 folium-0.17.0 jinja2-3.1.4 xyzservices-2024.6.0\n",
      "Note: you may need to restart the kernel to use updated packages.\n"
     ]
    }
   ],
   "source": [
    "%pip install folium"
   ]
  },
  {
   "cell_type": "code",
   "execution_count": 3,
   "metadata": {},
   "outputs": [],
   "source": [
    "import folium\n",
    "\n",
    "map = folium.Map(location=[37.4965,126.9573],\n",
    "                 zoom_start=17,\n",
    "                 width=750,\n",
    "                 height=500)\n",
    "\n",
    "folium.Marker(location=[37.4965,126.9573],\n",
    "              popup='숭실대학교',\n",
    "              tooltip='숭실대학교 정문',\n",
    "              icon=folium.Icon(color='red', icon='horse'))\n",
    "\n",
    "map.save('map.html')"
   ]
  },
  {
   "cell_type": "code",
   "execution_count": 4,
   "metadata": {},
   "outputs": [],
   "source": [
    "import pandas as pd\n",
    "\n",
    "df = pd.read_csv('../data/서울시_반려견_놀이터.csv')"
   ]
  },
  {
   "cell_type": "code",
   "execution_count": 7,
   "metadata": {},
   "outputs": [
    {
     "data": {
      "text/html": [
       "<div>\n",
       "<style scoped>\n",
       "    .dataframe tbody tr th:only-of-type {\n",
       "        vertical-align: middle;\n",
       "    }\n",
       "\n",
       "    .dataframe tbody tr th {\n",
       "        vertical-align: top;\n",
       "    }\n",
       "\n",
       "    .dataframe thead th {\n",
       "        text-align: right;\n",
       "    }\n",
       "</style>\n",
       "<table border=\"1\" class=\"dataframe\">\n",
       "  <thead>\n",
       "    <tr style=\"text-align: right;\">\n",
       "      <th></th>\n",
       "      <th>공원명</th>\n",
       "      <th>주소</th>\n",
       "      <th>Latitude</th>\n",
       "      <th>Longitude</th>\n",
       "    </tr>\n",
       "  </thead>\n",
       "  <tbody>\n",
       "    <tr>\n",
       "      <th>0</th>\n",
       "      <td>어린이대공원</td>\n",
       "      <td>광진구 능동로 216</td>\n",
       "      <td>37.549589</td>\n",
       "      <td>127.081578</td>\n",
       "    </tr>\n",
       "    <tr>\n",
       "      <th>1</th>\n",
       "      <td>월드컵공원</td>\n",
       "      <td>마포구 증산로 32</td>\n",
       "      <td>37.563272</td>\n",
       "      <td>126.892679</td>\n",
       "    </tr>\n",
       "    <tr>\n",
       "      <th>2</th>\n",
       "      <td>보라매공원</td>\n",
       "      <td>동작구 여의대방로20마길 11</td>\n",
       "      <td>37.492678</td>\n",
       "      <td>126.919139</td>\n",
       "    </tr>\n",
       "    <tr>\n",
       "      <th>3</th>\n",
       "      <td>매헌시민의숲</td>\n",
       "      <td>서울 서초구 매헌로 99</td>\n",
       "      <td>37.471068</td>\n",
       "      <td>127.035758</td>\n",
       "    </tr>\n",
       "    <tr>\n",
       "      <th>4</th>\n",
       "      <td>초안산근린공원</td>\n",
       "      <td>도봉구 해등로3길 48-11</td>\n",
       "      <td>37.646335</td>\n",
       "      <td>127.040802</td>\n",
       "    </tr>\n",
       "  </tbody>\n",
       "</table>\n",
       "</div>"
      ],
      "text/plain": [
       "       공원명                주소   Latitude   Longitude\n",
       "0   어린이대공원       광진구 능동로 216  37.549589  127.081578\n",
       "1    월드컵공원        마포구 증산로 32  37.563272  126.892679\n",
       "2    보라매공원  동작구 여의대방로20마길 11  37.492678  126.919139\n",
       "3   매헌시민의숲    서울 서초구 매헌로 99   37.471068  127.035758\n",
       "4  초안산근린공원   도봉구 해등로3길 48-11  37.646335  127.040802"
      ]
     },
     "execution_count": 7,
     "metadata": {},
     "output_type": "execute_result"
    }
   ],
   "source": [
    "df.head()"
   ]
  },
  {
   "cell_type": "code",
   "execution_count": 11,
   "metadata": {},
   "outputs": [],
   "source": [
    "dogparkmap = folium.Map(location=[df['Latitude'].mean(),df['Longitude'].mean()],\n",
    "                 zoom_start=17,\n",
    "                 width=750,\n",
    "                 height=500)\n",
    "\n",
    "for n, row in df.iterrows():\n",
    "    folium.Marker(location=[row['Latitude'],row['Longitude']],\n",
    "                popup=row['공원명'],\n",
    "                tooltip=row['공원명'],\n",
    "                icon=folium.Icon(color='red', icon='horse', prefix='fa')).add_to(dogparkmap)\n",
    "\n",
    "dogparkmap.save(f'서울시_반려견_놀이터.html')"
   ]
  }
 ],
 "metadata": {
  "kernelspec": {
   "display_name": "Python 3",
   "language": "python",
   "name": "python3"
  },
  "language_info": {
   "codemirror_mode": {
    "name": "ipython",
    "version": 3
   },
   "file_extension": ".py",
   "mimetype": "text/x-python",
   "name": "python",
   "nbconvert_exporter": "python",
   "pygments_lexer": "ipython3",
   "version": "3.12.4"
  }
 },
 "nbformat": 4,
 "nbformat_minor": 2
}
