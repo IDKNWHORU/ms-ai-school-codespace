{
 "cells": [
  {
   "cell_type": "markdown",
   "metadata": {},
   "source": [
    "### Hello, Python"
   ]
  },
  {
   "cell_type": "code",
   "execution_count": 1,
   "metadata": {},
   "outputs": [
    {
     "name": "stdout",
     "output_type": "stream",
     "text": [
      "Hello, Python1\n",
      "Hello, Python2\n",
      "Hello, Python3\n"
     ]
    }
   ],
   "source": [
    "print(\"Hello, Python1\")\n",
    "print(\"Hello, Python2\")\n",
    "print('Hello, Python3')"
   ]
  },
  {
   "cell_type": "code",
   "execution_count": 2,
   "metadata": {},
   "outputs": [
    {
     "data": {
      "text/plain": [
       "'Hello, Python3'"
      ]
     },
     "execution_count": 2,
     "metadata": {},
     "output_type": "execute_result"
    }
   ],
   "source": [
    "\"Hello, Python1\"\n",
    "\"Hello, Python2\"\n",
    "\"Hello, Python3\""
   ]
  },
  {
   "cell_type": "code",
   "execution_count": 3,
   "metadata": {},
   "outputs": [
    {
     "ename": "NameError",
     "evalue": "name 'Hello' is not defined",
     "output_type": "error",
     "traceback": [
      "\u001b[0;31m---------------------------------------------------------------------------\u001b[0m",
      "\u001b[0;31mNameError\u001b[0m                                 Traceback (most recent call last)",
      "Cell \u001b[0;32mIn[3], line 1\u001b[0m\n\u001b[0;32m----> 1\u001b[0m \u001b[43mHello\u001b[49m, Python1\n\u001b[1;32m      2\u001b[0m Hello, Python2\n\u001b[1;32m      3\u001b[0m Hello, Python3\n",
      "\u001b[0;31mNameError\u001b[0m: name 'Hello' is not defined"
     ]
    }
   ],
   "source": [
    "Hello, Python1\n",
    "Hello, Python2\n",
    "Hello, Python3"
   ]
  },
  {
   "cell_type": "code",
   "execution_count": null,
   "metadata": {},
   "outputs": [],
   "source": [
    "print(1)\n",
    "print(2)\n",
    "print(3)"
   ]
  },
  {
   "cell_type": "code",
   "execution_count": null,
   "metadata": {},
   "outputs": [],
   "source": [
    "print('1')\n",
    "print('2')\n",
    "print('3')"
   ]
  },
  {
   "cell_type": "code",
   "execution_count": null,
   "metadata": {},
   "outputs": [],
   "source": [
    "print(1+1)\n",
    "print(2+2)\n",
    "print(3+3)"
   ]
  },
  {
   "cell_type": "code",
   "execution_count": null,
   "metadata": {},
   "outputs": [],
   "source": [
    "print('1+1')\n",
    "print('2+2')\n",
    "print('3+3')"
   ]
  },
  {
   "cell_type": "code",
   "execution_count": null,
   "metadata": {},
   "outputs": [],
   "source": [
    "1+1\n",
    "2+2\n",
    "3+3"
   ]
  },
  {
   "cell_type": "code",
   "execution_count": null,
   "metadata": {},
   "outputs": [],
   "source": [
    "'1'\n",
    "'2'\n",
    "'3'"
   ]
  },
  {
   "cell_type": "code",
   "execution_count": null,
   "metadata": {},
   "outputs": [],
   "source": [
    "1\n",
    "2\n",
    "3"
   ]
  },
  {
   "cell_type": "markdown",
   "metadata": {},
   "source": [
    "### 파이썬 코딩 규칙"
   ]
  },
  {
   "cell_type": "code",
   "execution_count": null,
   "metadata": {},
   "outputs": [],
   "source": [
    "# 대문자와 소문자 구분\n",
    "print('Hello, Python1')\n",
    "print('Hello, Python2')\n",
    "print('Hello, Python3')"
   ]
  },
  {
   "cell_type": "code",
   "execution_count": null,
   "metadata": {},
   "outputs": [],
   "source": [
    "# 들여쓰기\n",
    "print('Hello, Python1')\n",
    "print('Hello, Python2')\n",
    "print('Hello, Python3')"
   ]
  },
  {
   "cell_type": "code",
   "execution_count": null,
   "metadata": {},
   "outputs": [],
   "source": [
    "# 한줄주석\n",
    "print('Hello, Python1') \n",
    "print('Hello, Python2')\n",
    "print('Hello, Python3')"
   ]
  },
  {
   "cell_type": "markdown",
   "metadata": {},
   "source": [
    "### 출력함수 호출하기"
   ]
  },
  {
   "cell_type": "code",
   "execution_count": null,
   "metadata": {},
   "outputs": [],
   "source": [
    "# 함수 도움말 보기\n",
    "# 함수명?\n",
    "# help(함수명)\n",
    "\n",
    "# print함수의 도움말 보기"
   ]
  },
  {
   "cell_type": "code",
   "execution_count": null,
   "metadata": {},
   "outputs": [],
   "source": [
    "# 하나의 값 출력하기\n",
    "print('python')\n",
    "print(100)\n",
    "print(1+1)"
   ]
  },
  {
   "cell_type": "code",
   "execution_count": null,
   "metadata": {},
   "outputs": [],
   "source": [
    "message = \"Hello, Python!\" \n",
    "\n",
    "# 변수 message의 값을 출력하세요."
   ]
  },
  {
   "cell_type": "code",
   "execution_count": null,
   "metadata": {},
   "outputs": [],
   "source": [
    "# 두개 이상의 값 출력하기\n",
    "print('python', 'java', 'c')\n",
    "\n",
    "# 수식과 결과 출력하기\n",
    "# (예) 1+1= 2\n",
    "print('1431*15=')"
   ]
  },
  {
   "cell_type": "code",
   "execution_count": null,
   "metadata": {},
   "outputs": [],
   "source": [
    "# 해시태그 '#'를 구분자로 지정하기\n",
    "print('python', 'java', 'c') \n",
    "\n",
    "# 빈문자''를 구분자로 지정하기\n",
    "print('1+1=', 1+1) "
   ]
  },
  {
   "cell_type": "code",
   "execution_count": null,
   "metadata": {},
   "outputs": [],
   "source": [
    "# 끝문자를 지정하여, 두 문장을 줄바꿈 없이 출력하기\n",
    "print('Life is short')\n",
    "print('You need python')"
   ]
  },
  {
   "cell_type": "code",
   "execution_count": null,
   "metadata": {},
   "outputs": [],
   "source": [
    "# 파이썬의 기본 내장함수 보기\n",
    "dir(__builtins__)"
   ]
  },
  {
   "cell_type": "markdown",
   "metadata": {},
   "source": [
    "### 입력함수 호출하기"
   ]
  },
  {
   "cell_type": "code",
   "execution_count": null,
   "metadata": {},
   "outputs": [],
   "source": [
    "# 입력함수 input의 도움말 보기\n"
   ]
  },
  {
   "cell_type": "code",
   "execution_count": 1,
   "metadata": {},
   "outputs": [
    {
     "data": {
      "text/plain": [
       "'hi'"
      ]
     },
     "execution_count": 1,
     "metadata": {},
     "output_type": "execute_result"
    }
   ],
   "source": [
    "input()"
   ]
  },
  {
   "cell_type": "code",
   "execution_count": 2,
   "metadata": {},
   "outputs": [
    {
     "data": {
      "text/plain": [
       "'엄준식'"
      ]
     },
     "execution_count": 2,
     "metadata": {},
     "output_type": "execute_result"
    }
   ],
   "source": [
    "input('메시지를 입력하세요')"
   ]
  },
  {
   "cell_type": "code",
   "execution_count": 3,
   "metadata": {},
   "outputs": [
    {
     "data": {
      "text/plain": [
       "'안알려줌'"
      ]
     },
     "execution_count": 3,
     "metadata": {},
     "output_type": "execute_result"
    }
   ],
   "source": [
    "# 숫자를 입력하면 어떻게 될까요?\n",
    "input('나이를 입력하세요')"
   ]
  },
  {
   "cell_type": "code",
   "execution_count": 4,
   "metadata": {},
   "outputs": [
    {
     "data": {
      "text/plain": [
       "'ㄴ'"
      ]
     },
     "execution_count": 4,
     "metadata": {},
     "output_type": "execute_result"
    }
   ],
   "source": [
    "# 나이만 출력되는 이유는 무엇일까요?\n",
    "input('이름을 입력하세요')\n",
    "input('나이를 입력하세요')"
   ]
  },
  {
   "cell_type": "code",
   "execution_count": 13,
   "metadata": {},
   "outputs": [
    {
     "name": "stdout",
     "output_type": "stream",
     "text": [
      "엄준식 19\n"
     ]
    },
    {
     "data": {
      "text/plain": [
       "20"
      ]
     },
     "execution_count": 13,
     "metadata": {},
     "output_type": "execute_result"
    }
   ],
   "source": [
    "# 값을 리턴하는 함수는 리턴값을 변수에 담아 사용할 수 있습니다.\n",
    "\n",
    "# 이름을 입력받아 변수 name에 할당합니다.\n",
    "name = input('이름')\n",
    "# 나이를 입력받아 변수 age에 할당합니다.\n",
    "age = input('나이')\n",
    "\n",
    "print(name, age)\n",
    "# 나이에 1을 더합니다.\n",
    "int(age) + 1"
   ]
  },
  {
   "cell_type": "code",
   "execution_count": null,
   "metadata": {},
   "outputs": [],
   "source": [
    "# print함수는 리턴값이 있는 함수일까?\n"
   ]
  },
  {
   "cell_type": "code",
   "execution_count": null,
   "metadata": {},
   "outputs": [],
   "source": [
    "# input함수는 리턴값이 있는 함수일까?\n"
   ]
  },
  {
   "cell_type": "markdown",
   "metadata": {},
   "source": [
    "### 모듈의 함수 호출하기"
   ]
  },
  {
   "cell_type": "code",
   "execution_count": null,
   "metadata": {},
   "outputs": [],
   "source": [
    "# 로켓 발사 카운트다운\n",
    "import time\n",
    "print(3)\n",
    "print(2)\n",
    "print(1)\n",
    "print(\"launch!\")\n"
   ]
  },
  {
   "cell_type": "code",
   "execution_count": 14,
   "metadata": {},
   "outputs": [
    {
     "name": "stdout",
     "output_type": "stream",
     "text": [
      "3\n",
      "2\n",
      "1\n",
      "launch!\n"
     ]
    }
   ],
   "source": [
    "import time as t\n",
    "print(3)\n",
    "t.sleep(1)\n",
    "print(2)\n",
    "print(1)\n",
    "print(\"launch!\")\n"
   ]
  },
  {
   "cell_type": "code",
   "execution_count": 15,
   "metadata": {},
   "outputs": [
    {
     "name": "stdout",
     "output_type": "stream",
     "text": [
      "3\n",
      "2\n",
      "1\n",
      "launch!\n"
     ]
    }
   ],
   "source": [
    "# ㄹㅇㅋㅋ\n",
    "from time import sleep\n",
    "print(3)\n",
    "sleep(1)\n",
    "print(2)\n",
    "sleep(1)\n",
    "print(1)\n",
    "sleep(1)\n",
    "print(\"launch!\")\n"
   ]
  },
  {
   "cell_type": "code",
   "execution_count": 17,
   "metadata": {},
   "outputs": [
    {
     "name": "stdout",
     "output_type": "stream",
     "text": [
      "\u001b[0;31mDocstring:\u001b[0m\n",
      "sleep(seconds)\n",
      "\n",
      "Delay execution for a given number of seconds.  The argument may be\n",
      "a floating point number for subsecond precision.\n",
      "\u001b[0;31mType:\u001b[0m      builtin_function_or_method"
     ]
    }
   ],
   "source": [
    "# 모듈의 함수 사용법\n",
    "# default값이 없는 매개변수에는 반드시 값을 전달해주어야 합니다.\n",
    "import time \n",
    "time.sleep?"
   ]
  },
  {
   "cell_type": "code",
   "execution_count": null,
   "metadata": {},
   "outputs": [],
   "source": [
    "# 리턴값이 없는 함수는 코드셀의 마지막 줄에 있어도 아무것도 출력되지 않아요.\n",
    "time.sleep(1)"
   ]
  },
  {
   "cell_type": "code",
   "execution_count": 19,
   "metadata": {},
   "outputs": [
    {
     "data": {
      "text/plain": [
       "6"
      ]
     },
     "execution_count": 19,
     "metadata": {},
     "output_type": "execute_result"
    }
   ],
   "source": [
    "# 리턴값이 있는 함수는 코드셀의 마지막 줄에 있을 때, 리턴값을 출력해줘요.\n",
    "import random\n",
    "random.randint(1,10)"
   ]
  },
  {
   "cell_type": "code",
   "execution_count": 20,
   "metadata": {},
   "outputs": [
    {
     "name": "stdout",
     "output_type": "stream",
     "text": [
      "\u001b[0;31mSignature:\u001b[0m \u001b[0mrandom\u001b[0m\u001b[0;34m.\u001b[0m\u001b[0mrandint\u001b[0m\u001b[0;34m(\u001b[0m\u001b[0ma\u001b[0m\u001b[0;34m,\u001b[0m \u001b[0mb\u001b[0m\u001b[0;34m)\u001b[0m\u001b[0;34m\u001b[0m\u001b[0;34m\u001b[0m\u001b[0m\n",
      "\u001b[0;31mDocstring:\u001b[0m\n",
      "Return random integer in range [a, b], including both end points.\n",
      "        \n",
      "\u001b[0;31mFile:\u001b[0m      ~/.python/current/lib/python3.10/random.py\n",
      "\u001b[0;31mType:\u001b[0m      method"
     ]
    }
   ],
   "source": [
    "random.randint?"
   ]
  },
  {
   "cell_type": "code",
   "execution_count": 21,
   "metadata": {},
   "outputs": [
    {
     "data": {
      "text/plain": [
       "['BPF',\n",
       " 'LOG4',\n",
       " 'NV_MAGICCONST',\n",
       " 'RECIP_BPF',\n",
       " 'Random',\n",
       " 'SG_MAGICCONST',\n",
       " 'SystemRandom',\n",
       " 'TWOPI',\n",
       " '_ONE',\n",
       " '_Sequence',\n",
       " '_Set',\n",
       " '__all__',\n",
       " '__builtins__',\n",
       " '__cached__',\n",
       " '__doc__',\n",
       " '__file__',\n",
       " '__loader__',\n",
       " '__name__',\n",
       " '__package__',\n",
       " '__spec__',\n",
       " '_accumulate',\n",
       " '_acos',\n",
       " '_bisect',\n",
       " '_ceil',\n",
       " '_cos',\n",
       " '_e',\n",
       " '_exp',\n",
       " '_floor',\n",
       " '_index',\n",
       " '_inst',\n",
       " '_isfinite',\n",
       " '_log',\n",
       " '_os',\n",
       " '_pi',\n",
       " '_random',\n",
       " '_repeat',\n",
       " '_sha512',\n",
       " '_sin',\n",
       " '_sqrt',\n",
       " '_test',\n",
       " '_test_generator',\n",
       " '_urandom',\n",
       " '_warn',\n",
       " 'betavariate',\n",
       " 'choice',\n",
       " 'choices',\n",
       " 'expovariate',\n",
       " 'gammavariate',\n",
       " 'gauss',\n",
       " 'getrandbits',\n",
       " 'getstate',\n",
       " 'lognormvariate',\n",
       " 'normalvariate',\n",
       " 'paretovariate',\n",
       " 'randbytes',\n",
       " 'randint',\n",
       " 'random',\n",
       " 'randrange',\n",
       " 'sample',\n",
       " 'seed',\n",
       " 'setstate',\n",
       " 'shuffle',\n",
       " 'triangular',\n",
       " 'uniform',\n",
       " 'vonmisesvariate',\n",
       " 'weibullvariate']"
      ]
     },
     "execution_count": 21,
     "metadata": {},
     "output_type": "execute_result"
    }
   ],
   "source": [
    "# 모듈의 함수 목록 보기\n",
    "import random \n",
    "dir(random)"
   ]
  },
  {
   "cell_type": "markdown",
   "metadata": {},
   "source": [
    "### 변수"
   ]
  },
  {
   "cell_type": "code",
   "execution_count": 23,
   "metadata": {},
   "outputs": [
    {
     "name": "stdout",
     "output_type": "stream",
     "text": [
      "me\n"
     ]
    }
   ],
   "source": [
    "# 변수에는 한번에 하나의 자료만 담을 수 있습니다.\n",
    "# 동일한 이름의 변수에 값을 여러 번 할당하면 마지막 할당한 값만 남습니다.\n",
    "family = 'father'\n",
    "family = 'mother'\n",
    "family = 'syster'\n",
    "family = 'brother'\n",
    "family = 'me'\n",
    "\n",
    "# family를 출력해보세요.\n",
    "print(family)"
   ]
  },
  {
   "cell_type": "code",
   "execution_count": 24,
   "metadata": {},
   "outputs": [
    {
     "name": "stdout",
     "output_type": "stream",
     "text": [
      "10 <class 'int'>\n",
      "hello <class 'str'>\n",
      "['python', 'java', 'c'] <class 'list'>\n",
      "10.0 <class 'float'>\n"
     ]
    }
   ],
   "source": [
    "# 변수에는 어떠한 type의 자료도 담을 수 있습니다.\n",
    "# 변수에 할당되는 값에 따라 변수의 자료형이 결정됩니다.\n",
    "\n",
    "a = 10 \n",
    "print(a, type(a))\n",
    "\n",
    "a = 'hello'\n",
    "print(a, type(a))\n",
    "\n",
    "a = ['python','java','c']\n",
    "print(a, type(a))\n",
    "\n",
    "# a에 10.0을 할당하고, 값과 자료형을 출력해보세요.\n",
    "a = 10.0\n",
    "print(a, type(a))"
   ]
  },
  {
   "cell_type": "markdown",
   "metadata": {},
   "source": [
    "### 기본자료형\n",
    "    \n"
   ]
  },
  {
   "cell_type": "code",
   "execution_count": 25,
   "metadata": {},
   "outputs": [
    {
     "data": {
      "text/plain": [
       "str"
      ]
     },
     "execution_count": 25,
     "metadata": {},
     "output_type": "execute_result"
    }
   ],
   "source": [
    "# '홍길동'의 자료형은?\n",
    "type('홍길동')"
   ]
  },
  {
   "cell_type": "code",
   "execution_count": 26,
   "metadata": {},
   "outputs": [
    {
     "data": {
      "text/plain": [
       "int"
      ]
     },
     "execution_count": 26,
     "metadata": {},
     "output_type": "execute_result"
    }
   ],
   "source": [
    "# 100의 자료형은?\n",
    "type(100)"
   ]
  },
  {
   "cell_type": "code",
   "execution_count": 27,
   "metadata": {},
   "outputs": [
    {
     "data": {
      "text/plain": [
       "float"
      ]
     },
     "execution_count": 27,
     "metadata": {},
     "output_type": "execute_result"
    }
   ],
   "source": [
    "# 100.0의 자료형은?\n",
    "type(100.0)"
   ]
  },
  {
   "cell_type": "code",
   "execution_count": 28,
   "metadata": {},
   "outputs": [
    {
     "data": {
      "text/plain": [
       "bool"
      ]
     },
     "execution_count": 28,
     "metadata": {},
     "output_type": "execute_result"
    }
   ],
   "source": [
    "# 1>2의 자료형은?\n",
    "type(1>2)"
   ]
  },
  {
   "cell_type": "code",
   "execution_count": 29,
   "metadata": {},
   "outputs": [
    {
     "data": {
      "text/plain": [
       "str"
      ]
     },
     "execution_count": 29,
     "metadata": {},
     "output_type": "execute_result"
    }
   ],
   "source": [
    "# 'True'의 자료형은?\n",
    "type('True')"
   ]
  },
  {
   "cell_type": "code",
   "execution_count": 30,
   "metadata": {},
   "outputs": [
    {
     "data": {
      "text/plain": [
       "str"
      ]
     },
     "execution_count": 30,
     "metadata": {},
     "output_type": "execute_result"
    }
   ],
   "source": [
    "# 'true'의 자료형은?\n",
    "type('true')"
   ]
  },
  {
   "cell_type": "code",
   "execution_count": 31,
   "metadata": {},
   "outputs": [
    {
     "data": {
      "text/plain": [
       "bool"
      ]
     },
     "execution_count": 31,
     "metadata": {},
     "output_type": "execute_result"
    }
   ],
   "source": [
    "# True의 자료형은?\n",
    "type(True)"
   ]
  },
  {
   "cell_type": "code",
   "execution_count": 34,
   "metadata": {},
   "outputs": [
    {
     "ename": "NameError",
     "evalue": "name 'true' is not defined",
     "output_type": "error",
     "traceback": [
      "\u001b[0;31m---------------------------------------------------------------------------\u001b[0m",
      "\u001b[0;31mNameError\u001b[0m                                 Traceback (most recent call last)",
      "Cell \u001b[0;32mIn[34], line 2\u001b[0m\n\u001b[1;32m      1\u001b[0m \u001b[38;5;66;03m# true의 자료형은?\u001b[39;00m\n\u001b[0;32m----> 2\u001b[0m \u001b[38;5;28mtype\u001b[39m(\u001b[43mtrue\u001b[49m)\n",
      "\u001b[0;31mNameError\u001b[0m: name 'true' is not defined"
     ]
    }
   ],
   "source": [
    "# true의 자료형은?\n",
    "type(true)"
   ]
  },
  {
   "cell_type": "code",
   "execution_count": 35,
   "metadata": {},
   "outputs": [
    {
     "data": {
      "text/plain": [
       "str"
      ]
     },
     "execution_count": 35,
     "metadata": {},
     "output_type": "execute_result"
    }
   ],
   "source": [
    "true = 'hello'\n",
    "# true의 자료형은?\n",
    "type(true)"
   ]
  },
  {
   "cell_type": "markdown",
   "metadata": {},
   "source": [
    "### 컨테이너자료형"
   ]
  },
  {
   "cell_type": "markdown",
   "metadata": {},
   "source": [
    "#### 리스트(list)"
   ]
  },
  {
   "cell_type": "code",
   "execution_count": 37,
   "metadata": {},
   "outputs": [
    {
     "name": "stdout",
     "output_type": "stream",
     "text": [
      "['운동', '독서', '청소', '공부', 1, True]\n",
      "<class 'list'>\n"
     ]
    }
   ],
   "source": [
    "# 리스트 생성하기\n",
    "todo_list = ['운동','독서','청소','공부',1, True]\n",
    "print(todo_list)\n",
    "print(type(todo_list))"
   ]
  },
  {
   "cell_type": "code",
   "execution_count": 38,
   "metadata": {},
   "outputs": [
    {
     "name": "stdout",
     "output_type": "stream",
     "text": [
      "['운동', '독서', '청소', '공부', '저녁약속']\n",
      "첫번째로 할 일:\n",
      "세번째로 할 일:\n",
      "마지막으로 할 일:\n",
      "마지막으로 할 일:\n"
     ]
    }
   ],
   "source": [
    "# 리스트에서 하나의 값 가져오기\n",
    "todo_list = ['운동','독서','청소','공부','저녁약속']\n",
    "print(todo_list)\n",
    "print('첫번째로 할 일:')\n",
    "print('세번째로 할 일:')\n",
    "print('마지막으로 할 일:')\n",
    "print('마지막으로 할 일:')"
   ]
  },
  {
   "cell_type": "code",
   "execution_count": null,
   "metadata": {},
   "outputs": [],
   "source": [
    "# 리스트에서 값 잘라오기\n",
    "todo_list = ['운동','독서','청소','공부','저녁약속']\n",
    "print(todo_list)\n",
    "print(\"두번째~네번째 할 일:\")\n",
    "print(\"처음 할 일 2가지:\")\n",
    "print(\"3번째 이후로 할 일:\")\n",
    "print(\"할일 모두 가져오기:\")"
   ]
  },
  {
   "cell_type": "code",
   "execution_count": 40,
   "metadata": {},
   "outputs": [
    {
     "name": "stdout",
     "output_type": "stream",
     "text": [
      "['운동', '독서', '청소', '공부', '저녁약속']\n",
      "-----마지막에 '일기쓰기' 추가-----\n",
      "['운동', '독서', '청소', '공부', '저녁약속', '일기쓰기']\n"
     ]
    }
   ],
   "source": [
    "# 리스트 끝에 값 추가하기\n",
    "todo_list = ['운동','독서','청소','공부','저녁약속']\n",
    "print(todo_list)\n",
    "print(\"-----마지막에 '일기쓰기' 추가-----\")\n",
    "todo_list.append('일기쓰기')\n",
    "print(todo_list)"
   ]
  },
  {
   "cell_type": "code",
   "execution_count": 49,
   "metadata": {},
   "outputs": [
    {
     "name": "stdout",
     "output_type": "stream",
     "text": [
      "['운동', '독서', '청소', '공부', '저녁약속']\n",
      "-----정렬하기-----\n",
      "['공부', '독서', '운동', '저녁약속', '청소']\n",
      "['청소', '저녁약속', '운동', '독서', '공부']\n"
     ]
    }
   ],
   "source": [
    "# 리스트 정렬하기\n",
    "todo_list = ['운동','독서','청소','공부','저녁약속']\n",
    "print(todo_list)\n",
    "print(\"-----정렬하기-----\")\n",
    "todo_list.sort()\n",
    "print(todo_list)\n",
    "todo_list.sort(reverse=True)\n",
    "print(todo_list)"
   ]
  },
  {
   "cell_type": "code",
   "execution_count": null,
   "metadata": {},
   "outputs": [],
   "source": [
    "# 리스트가 가지는 함수(메소드)\n",
    "dir(list)"
   ]
  },
  {
   "cell_type": "code",
   "execution_count": 52,
   "metadata": {},
   "outputs": [
    {
     "data": {
      "text/plain": [
       "'짜장면'"
      ]
     },
     "execution_count": 52,
     "metadata": {},
     "output_type": "execute_result"
    }
   ],
   "source": [
    "# 오늘은 뭘 먹지?\n",
    "menu = ['햄버거','김치찌개','초밥']\n",
    "\n",
    "# 메뉴 추가하기\n",
    "menu.append('짜장면')\n",
    "\n",
    "# 랜덤으로 메뉴 선택하기 (random모듈의 choice 함수 사용)\n",
    "random.choice(menu)\n"
   ]
  },
  {
   "cell_type": "markdown",
   "metadata": {},
   "source": [
    "#### 튜플(tuple)"
   ]
  },
  {
   "cell_type": "code",
   "execution_count": 54,
   "metadata": {},
   "outputs": [
    {
     "name": "stdout",
     "output_type": "stream",
     "text": [
      "<class 'tuple'> <class 'tuple'> <class 'int'>\n"
     ]
    }
   ],
   "source": [
    "t3 = (80,90,100) \n",
    "t1 = (80,) \n",
    "not_tuple = (80)\n",
    "\n",
    "# t3, t1, no_tuple의 값과 type을 출력해보세요.\n",
    "print(type(t3), type(t1), type(not_tuple))"
   ]
  },
  {
   "cell_type": "code",
   "execution_count": null,
   "metadata": {},
   "outputs": [],
   "source": [
    "t3 = 80,90,100\n",
    "t1 = 80, \n",
    "not_tuple = 80\n",
    "\n",
    "# t3, t1, no_tuple의 값과 type을 출력해보세요."
   ]
  },
  {
   "cell_type": "code",
   "execution_count": null,
   "metadata": {},
   "outputs": [],
   "source": [
    "dir(tuple)"
   ]
  },
  {
   "cell_type": "markdown",
   "metadata": {},
   "source": [
    "#### 딕셔너리(dict)"
   ]
  },
  {
   "cell_type": "code",
   "execution_count": null,
   "metadata": {},
   "outputs": [],
   "source": [
    "# 분식집 메뉴판\n",
    "menu = {\"김밥\":4000, \"떡볶이\":3000, \"어묵\":2000, \"튀김\":3500}\n",
    "print(menu)\n",
    "\n",
    "# \"김밥\"은 얼마인지 출력해보세요.\n",
    "\n",
    "# 딕셔너리는 인덱스가 없음\n",
    "# print(menu[0]) x"
   ]
  },
  {
   "cell_type": "markdown",
   "metadata": {},
   "source": [
    "#### 집합(set)"
   ]
  },
  {
   "cell_type": "code",
   "execution_count": 56,
   "metadata": {},
   "outputs": [
    {
     "name": "stdout",
     "output_type": "stream",
     "text": [
      "{'오감자', '새우깡', '양파링', '포카칩'}\n"
     ]
    }
   ],
   "source": [
    "snack = {'새우깡','오감자','양파링','포카칩','양파링'}\n",
    "print(snack)"
   ]
  },
  {
   "cell_type": "code",
   "execution_count": 57,
   "metadata": {},
   "outputs": [
    {
     "name": "stdout",
     "output_type": "stream",
     "text": [
      "{'칸초', '빼빼로', '허니버터칩'}\n",
      "{'허니버터칩', '새우깡', '포카칩'}\n"
     ]
    }
   ],
   "source": [
    "# 달콤한 과자, 짭짤한 과자\n",
    "sweet= {'빼빼로','칸초','허니버터칩','허니버터칩','허니버터칩'}\n",
    "salty = {'포카칩','새우깡','허니버터칩'}\n",
    "print(sweet)\n",
    "print(salty)"
   ]
  },
  {
   "cell_type": "code",
   "execution_count": 63,
   "metadata": {},
   "outputs": [
    {
     "name": "stdout",
     "output_type": "stream",
     "text": [
      "합집합: {'허니버터칩', '오감자', '빼빼로', '칸초', '새우깡', '양파링', '포카칩'}\n"
     ]
    }
   ],
   "source": [
    "# 모든 과자 집합\n",
    "print(\"합집합:\", snack | sweet | salty)"
   ]
  },
  {
   "cell_type": "code",
   "execution_count": 64,
   "metadata": {},
   "outputs": [
    {
     "name": "stdout",
     "output_type": "stream",
     "text": [
      "교집합: {'칸초', '허니버터칩', '새우깡', '빼빼로', '포카칩'}\n"
     ]
    }
   ],
   "source": [
    "# 단짠을 찾아라\n",
    "print(\"교집합:\", sweet | salty)"
   ]
  },
  {
   "cell_type": "code",
   "execution_count": 70,
   "metadata": {},
   "outputs": [
    {
     "name": "stdout",
     "output_type": "stream",
     "text": [
      "차집합(sweet에만 속하는 과자): {'칸초', '빼빼로'}\n"
     ]
    }
   ],
   "source": [
    "# 달콤하기만 한 과자\n",
    "print(\"차집합(sweet에만 속하는 과자):\", sweet - salty)"
   ]
  },
  {
   "cell_type": "code",
   "execution_count": 68,
   "metadata": {},
   "outputs": [
    {
     "name": "stdout",
     "output_type": "stream",
     "text": [
      "차집합(salty에만 속하는 과자): {'새우깡', '포카칩'}\n"
     ]
    }
   ],
   "source": [
    "# 짭짤하기만 한 과자\n",
    "print(\"차집합(salty에만 속하는 과자):\", salty - sweet)"
   ]
  },
  {
   "cell_type": "markdown",
   "metadata": {},
   "source": [
    "### 객체의 메소드"
   ]
  },
  {
   "cell_type": "code",
   "execution_count": null,
   "metadata": {},
   "outputs": [],
   "source": [
    "fruits = ['apple','banana','kiwi']\n",
    "fruits.append('watermelon') # 반환값이 없는 메소드\n",
    "print(fruits)\n",
    "\n",
    "len(fruits) # len : 반환값이 있는 함수"
   ]
  },
  {
   "cell_type": "markdown",
   "metadata": {},
   "source": [
    "### 연산자"
   ]
  },
  {
   "cell_type": "markdown",
   "metadata": {},
   "source": [
    "#### 산술연산"
   ]
  },
  {
   "cell_type": "code",
   "execution_count": 71,
   "metadata": {},
   "outputs": [
    {
     "name": "stdout",
     "output_type": "stream",
     "text": [
      "10+3= 13\n",
      "10-3= 7\n",
      "10*3= 30\n",
      "10/3= 3.3333333333333335\n",
      "10//3= 3\n",
      "10%3= 1\n",
      "10**3= 1000\n"
     ]
    }
   ],
   "source": [
    "print('10+3=', 10+3)\n",
    "print('10-3=', 10-3)\n",
    "print('10*3=', 10*3)\n",
    "print('10/3=', 10/3)\n",
    "print('10//3=', 10//3)\n",
    "print('10%3=', 10%3)\n",
    "print('10**3=', 10**3)"
   ]
  },
  {
   "cell_type": "markdown",
   "metadata": {},
   "source": [
    "#### 비교연산"
   ]
  },
  {
   "cell_type": "code",
   "execution_count": 72,
   "metadata": {},
   "outputs": [
    {
     "name": "stdout",
     "output_type": "stream",
     "text": [
      "1==1 True\n",
      "1!=1 False\n",
      "1>1 False\n",
      "1<1 False\n",
      "1>=1 True\n",
      "1<=1 True\n"
     ]
    }
   ],
   "source": [
    "print('1==1', 1==1)\n",
    "print('1!=1', 1!=1)\n",
    "print('1>1', 1>1)\n",
    "print('1<1', 1<1)\n",
    "print('1>=1', 1>=1)\n",
    "print('1<=1', 1<=1)\n"
   ]
  },
  {
   "cell_type": "markdown",
   "metadata": {},
   "source": [
    "#### 논리연산"
   ]
  },
  {
   "cell_type": "code",
   "execution_count": 80,
   "metadata": {},
   "outputs": [
    {
     "name": "stdout",
     "output_type": "stream",
     "text": [
      "False\n"
     ]
    }
   ],
   "source": [
    "# kevin은 8살이고 키는 130센티미터입니다.\n",
    "# 나이가 10살 이상이고 키가 120 이상이면 놀이기구를 탈 수 있습니다.\n",
    "# kevin은 놀이기구를 탈 수 있을까요?\n",
    "age = 8\n",
    "height = 130\n",
    "\n",
    "print(age >= 10 and height >= 120)"
   ]
  },
  {
   "cell_type": "code",
   "execution_count": 81,
   "metadata": {},
   "outputs": [
    {
     "name": "stdout",
     "output_type": "stream",
     "text": [
      "True\n"
     ]
    }
   ],
   "source": [
    "# kevin은 8살이고 키는 130센티미터입니다.\n",
    "# 나이가 10살 이상이거나 키가 120 이상이면 놀이기구를 탈 수 있습니다.\n",
    "# kevin은 놀이기구를 탈 수 있을까요?\n",
    "age = 8\n",
    "height = 130\n",
    "\n",
    "print(age >= 10 or height >= 120)"
   ]
  },
  {
   "cell_type": "markdown",
   "metadata": {},
   "source": [
    "### 흐름 제어"
   ]
  },
  {
   "cell_type": "markdown",
   "metadata": {},
   "source": [
    "#### 조건문"
   ]
  },
  {
   "cell_type": "code",
   "execution_count": 85,
   "metadata": {},
   "outputs": [
    {
     "name": "stdout",
     "output_type": "stream",
     "text": [
      "합격\n"
     ]
    }
   ],
   "source": [
    "# 60점 이상이면 합격\n",
    "score = 60\n",
    "if(score >= 60):\n",
    "    print('합격')"
   ]
  },
  {
   "cell_type": "code",
   "execution_count": 88,
   "metadata": {},
   "outputs": [
    {
     "name": "stdout",
     "output_type": "stream",
     "text": [
      "불합격\n"
     ]
    }
   ],
   "source": [
    "# 60점 이상이면 합격, 아니면 불합격\n",
    "score = 30\n",
    "if(score >= 60):\n",
    "    print(\"합격\")\n",
    "else:\n",
    "    print(\"불합격\")"
   ]
  },
  {
   "cell_type": "code",
   "execution_count": 95,
   "metadata": {},
   "outputs": [
    {
     "name": "stdout",
     "output_type": "stream",
     "text": [
      "Soso\n"
     ]
    }
   ],
   "source": [
    "# 90점 이상이면 Good, 60점 이상이면 Soso, 그 외에는 Bad\n",
    "score = 75\n",
    "if score >= 90: print('Good')\n",
    "elif score >= 60: print('Soso')\n",
    "else: print('Bad')"
   ]
  },
  {
   "cell_type": "markdown",
   "metadata": {},
   "source": [
    "#### for 반복문"
   ]
  },
  {
   "cell_type": "code",
   "execution_count": 96,
   "metadata": {},
   "outputs": [
    {
     "name": "stdout",
     "output_type": "stream",
     "text": [
      "apple\n",
      "banana\n",
      "kiwi\n"
     ]
    }
   ],
   "source": [
    "# ['apple','banana','kiwi']로 반복\n",
    "for fruite in ['apple','banana','kiwi']:\n",
    "    print(fruite)"
   ]
  },
  {
   "cell_type": "code",
   "execution_count": 97,
   "metadata": {},
   "outputs": [
    {
     "name": "stdout",
     "output_type": "stream",
     "text": [
      "p\n",
      "y\n",
      "t\n",
      "h\n",
      "o\n",
      "n\n"
     ]
    }
   ],
   "source": [
    "# 'python'로 반복\n",
    "for char in 'python':\n",
    "    print(char)"
   ]
  },
  {
   "cell_type": "code",
   "execution_count": 98,
   "metadata": {},
   "outputs": [
    {
     "name": "stdout",
     "output_type": "stream",
     "text": [
      "0\n",
      "1\n",
      "2\n",
      "3\n",
      "4\n"
     ]
    }
   ],
   "source": [
    "# range(5)로 반복\n",
    "for num in range(5):\n",
    "    print(num)"
   ]
  },
  {
   "cell_type": "code",
   "execution_count": 99,
   "metadata": {},
   "outputs": [
    {
     "name": "stdout",
     "output_type": "stream",
     "text": [
      "1\n",
      "2\n",
      "3\n",
      "4\n"
     ]
    }
   ],
   "source": [
    "# range(1,5)로 반복\n",
    "for num in range(1, 5):\n",
    "    print(num)"
   ]
  },
  {
   "cell_type": "code",
   "execution_count": 101,
   "metadata": {},
   "outputs": [
    {
     "name": "stdout",
     "output_type": "stream",
     "text": [
      "1\n",
      "3\n",
      "5\n",
      "7\n",
      "9\n"
     ]
    }
   ],
   "source": [
    "# range(1,10,2)로 반복\n",
    "for num in range(1, 10, 2):\n",
    "    print(num)"
   ]
  },
  {
   "cell_type": "code",
   "execution_count": 102,
   "metadata": {},
   "outputs": [
    {
     "name": "stdout",
     "output_type": "stream",
     "text": [
      "10\n",
      "9\n",
      "8\n",
      "7\n",
      "6\n",
      "5\n",
      "4\n",
      "3\n",
      "2\n"
     ]
    }
   ],
   "source": [
    "# range(10,1,-1)로 반복\n",
    "for num in range(10, 1, -1):\n",
    "    print(num)"
   ]
  },
  {
   "cell_type": "code",
   "execution_count": 106,
   "metadata": {},
   "outputs": [
    {
     "name": "stdout",
     "output_type": "stream",
     "text": [
      "10\n",
      "9\n",
      "8\n",
      "7\n",
      "6\n",
      "5\n",
      "4\n",
      "3\n",
      "2\n",
      "1\n",
      "launch!\n"
     ]
    }
   ],
   "source": [
    "# 로켓발사 카운트다운 for문으로 만들기\n",
    "\n",
    "import time as t\n",
    "\n",
    "for num in range(10, 0, -1):\n",
    "    print(num)\n",
    "    t.sleep(1)\n",
    "\n",
    "print('launch!')"
   ]
  },
  {
   "cell_type": "markdown",
   "metadata": {},
   "source": [
    "#### while 반복문"
   ]
  },
  {
   "cell_type": "code",
   "execution_count": 1,
   "metadata": {},
   "outputs": [
    {
     "name": "stdout",
     "output_type": "stream",
     "text": [
      "성공\n"
     ]
    }
   ],
   "source": [
    "user_password = '1234'\n",
    "\n",
    "while(True):\n",
    "    input_password = input(\"비밀번호를 입력하세요.\")\n",
    "    if(input_password == user_password):\n",
    "        print('성공')\n",
    "        break\n",
    "    print('응 틀렸어')\n",
    "\n",
    "# 올바른 비밀번호를 입력할 때까지 반복하여 비밀번호를 입력받습니다.\n",
    "# 올바른 비밀번호를 입력하면 '로그인 성공' 출력\n",
    "# 올바른 비밀번호가 아니면 '잘못된 비밀번호입니다' 출력\n"
   ]
  },
  {
   "cell_type": "code",
   "execution_count": 113,
   "metadata": {},
   "outputs": [
    {
     "name": "stdout",
     "output_type": "stream",
     "text": [
      "응~ 틀렸어\n",
      "응~ 틀렸어\n",
      "응~ 틀렸어\n",
      "응~ 틀렸어\n",
      "응~ 틀렸어\n",
      "응~ 틀렸어\n",
      "응~ 틀렸어\n",
      "정답!\n"
     ]
    }
   ],
   "source": [
    "user_password = '1234'\n",
    "\n",
    "while(True):\n",
    "    input_password = input(\"비밀번호를 입력하세요.\")\n",
    "    if(input_password == user_password):\n",
    "        print('정답!')\n",
    "        break\n",
    "    print('응~ 틀렸어')\n",
    "\n",
    "# 무한반복하며 비밀번호를 입력받습니다.\n",
    "# 올바른 비밀번호를 입력하면 '로그인 성공' 출력하고 반복 종료\n",
    "# 올바른 비밀번호가 아니면 '잘못된 비밀번호입니다' 출력"
   ]
  }
 ],
 "metadata": {
  "kernelspec": {
   "display_name": "Python 3",
   "language": "python",
   "name": "python3"
  },
  "language_info": {
   "codemirror_mode": {
    "name": "ipython",
    "version": 3
   },
   "file_extension": ".py",
   "mimetype": "text/x-python",
   "name": "python",
   "nbconvert_exporter": "python",
   "pygments_lexer": "ipython3",
   "version": "3.10.13"
  }
 },
 "nbformat": 4,
 "nbformat_minor": 2
}
