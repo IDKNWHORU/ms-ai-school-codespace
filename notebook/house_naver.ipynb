{
 "cells": [
  {
   "cell_type": "code",
   "execution_count": 2,
   "metadata": {},
   "outputs": [],
   "source": [
    "import pandas as pd\n",
    "\n",
    "df = pd.DataFrame()\n",
    "\n",
    "for page_num in range(1, 11):\n",
    "    base_url = f\"https://land.naver.com/news/trendReport.naver?page={page_num}\"\n",
    "    temp = pd.read_html(base_url)\n",
    "    df = pd.concat([df, temp[0]])    "
   ]
  },
  {
   "cell_type": "code",
   "execution_count": 3,
   "metadata": {},
   "outputs": [],
   "source": [
    "temp = df['제목'].str.replace('%', '')\n",
    "\n",
    "\n",
    "regions = ['전국', '서울', '수도권']\n",
    "\n",
    "for region in regions:\n",
    "    temp = temp.str.replace(region, '')\n",
    "    \n",
    "temp = temp.str.split(']', expand=True)[1]\n",
    "temp = temp.str.split(',', expand=True)\n",
    "temp = temp.astype(float)"
   ]
  },
  {
   "cell_type": "code",
   "execution_count": 4,
   "metadata": {},
   "outputs": [],
   "source": [
    "df[regions] = temp"
   ]
  },
  {
   "cell_type": "code",
   "execution_count": 5,
   "metadata": {},
   "outputs": [
    {
     "data": {
      "text/html": [
       "<div>\n",
       "<style scoped>\n",
       "    .dataframe tbody tr th:only-of-type {\n",
       "        vertical-align: middle;\n",
       "    }\n",
       "\n",
       "    .dataframe tbody tr th {\n",
       "        vertical-align: top;\n",
       "    }\n",
       "\n",
       "    .dataframe thead th {\n",
       "        text-align: right;\n",
       "    }\n",
       "</style>\n",
       "<table border=\"1\" class=\"dataframe\">\n",
       "  <thead>\n",
       "    <tr style=\"text-align: right;\">\n",
       "      <th></th>\n",
       "      <th>번호</th>\n",
       "      <th>제목</th>\n",
       "      <th>등록일</th>\n",
       "      <th>조회수</th>\n",
       "      <th>전국</th>\n",
       "      <th>서울</th>\n",
       "      <th>수도권</th>\n",
       "    </tr>\n",
       "  </thead>\n",
       "  <tbody>\n",
       "    <tr>\n",
       "      <th>0</th>\n",
       "      <td>1806</td>\n",
       "      <td>[6월3주 전국]전국-0.01%, 서울 0.05%, 수도권 0.01%</td>\n",
       "      <td>2024.06.24</td>\n",
       "      <td>482</td>\n",
       "      <td>-0.01</td>\n",
       "      <td>0.05</td>\n",
       "      <td>0.01</td>\n",
       "    </tr>\n",
       "    <tr>\n",
       "      <th>1</th>\n",
       "      <td>1805</td>\n",
       "      <td>[6월2주 전국]전국 0.09%, 서울 0.20%, 수도권 0.13%</td>\n",
       "      <td>2024.06.17</td>\n",
       "      <td>971</td>\n",
       "      <td>0.09</td>\n",
       "      <td>0.20</td>\n",
       "      <td>0.13</td>\n",
       "    </tr>\n",
       "    <tr>\n",
       "      <th>2</th>\n",
       "      <td>1804</td>\n",
       "      <td>[6월1주 전국]전국-0.04%, 서울 0.02%, 수도권-0.02%</td>\n",
       "      <td>2024.06.07</td>\n",
       "      <td>1199</td>\n",
       "      <td>-0.04</td>\n",
       "      <td>0.02</td>\n",
       "      <td>-0.02</td>\n",
       "    </tr>\n",
       "    <tr>\n",
       "      <th>3</th>\n",
       "      <td>1803</td>\n",
       "      <td>[5월5주 전국]전국 0.04%, 서울 0.12%, 수도권 0.08%</td>\n",
       "      <td>2024.05.31</td>\n",
       "      <td>993</td>\n",
       "      <td>0.04</td>\n",
       "      <td>0.12</td>\n",
       "      <td>0.08</td>\n",
       "    </tr>\n",
       "    <tr>\n",
       "      <th>4</th>\n",
       "      <td>1802</td>\n",
       "      <td>[5월4주 전국]전국 0.04%, 서울 0.00%, 수도권-0.06%</td>\n",
       "      <td>2024.05.27</td>\n",
       "      <td>846</td>\n",
       "      <td>0.04</td>\n",
       "      <td>0.00</td>\n",
       "      <td>-0.06</td>\n",
       "    </tr>\n",
       "    <tr>\n",
       "      <th>...</th>\n",
       "      <td>...</td>\n",
       "      <td>...</td>\n",
       "      <td>...</td>\n",
       "      <td>...</td>\n",
       "      <td>...</td>\n",
       "      <td>...</td>\n",
       "      <td>...</td>\n",
       "    </tr>\n",
       "    <tr>\n",
       "      <th>15</th>\n",
       "      <td>1607</td>\n",
       "      <td>[9월4주 전국] 전국 0.28%, 서울 0.47%, 수도권 0.39%</td>\n",
       "      <td>2020.09.25</td>\n",
       "      <td>4720</td>\n",
       "      <td>0.28</td>\n",
       "      <td>0.47</td>\n",
       "      <td>0.39</td>\n",
       "    </tr>\n",
       "    <tr>\n",
       "      <th>16</th>\n",
       "      <td>1606</td>\n",
       "      <td>[9월3주 전국] 전국 0.30%, 서울 0.56%, 수도권 0.43%</td>\n",
       "      <td>2020.09.18</td>\n",
       "      <td>3848</td>\n",
       "      <td>0.30</td>\n",
       "      <td>0.56</td>\n",
       "      <td>0.43</td>\n",
       "    </tr>\n",
       "    <tr>\n",
       "      <th>17</th>\n",
       "      <td>1605</td>\n",
       "      <td>[9월2주 전국] 전국 0.43%, 서울 0.50%, 수도권 0.50%</td>\n",
       "      <td>2020.09.11</td>\n",
       "      <td>3737</td>\n",
       "      <td>0.43</td>\n",
       "      <td>0.50</td>\n",
       "      <td>0.50</td>\n",
       "    </tr>\n",
       "    <tr>\n",
       "      <th>18</th>\n",
       "      <td>1604</td>\n",
       "      <td>[9월1주 전국] 전국 0.40%, 서울 0.57%, 수도권 0.51%</td>\n",
       "      <td>2020.09.04</td>\n",
       "      <td>4138</td>\n",
       "      <td>0.40</td>\n",
       "      <td>0.57</td>\n",
       "      <td>0.51</td>\n",
       "    </tr>\n",
       "    <tr>\n",
       "      <th>19</th>\n",
       "      <td>1603</td>\n",
       "      <td>[8월4주 전국] 전국 0.43%, 서울 0.59%, 수도권 0.50%</td>\n",
       "      <td>2020.08.28</td>\n",
       "      <td>4246</td>\n",
       "      <td>0.43</td>\n",
       "      <td>0.59</td>\n",
       "      <td>0.50</td>\n",
       "    </tr>\n",
       "  </tbody>\n",
       "</table>\n",
       "<p>200 rows × 7 columns</p>\n",
       "</div>"
      ],
      "text/plain": [
       "      번호                                       제목         등록일   조회수    전국  \\\n",
       "0   1806   [6월3주 전국]전국-0.01%, 서울 0.05%, 수도권 0.01%  2024.06.24   482 -0.01   \n",
       "1   1805   [6월2주 전국]전국 0.09%, 서울 0.20%, 수도권 0.13%  2024.06.17   971  0.09   \n",
       "2   1804   [6월1주 전국]전국-0.04%, 서울 0.02%, 수도권-0.02%  2024.06.07  1199 -0.04   \n",
       "3   1803   [5월5주 전국]전국 0.04%, 서울 0.12%, 수도권 0.08%  2024.05.31   993  0.04   \n",
       "4   1802   [5월4주 전국]전국 0.04%, 서울 0.00%, 수도권-0.06%  2024.05.27   846  0.04   \n",
       "..   ...                                      ...         ...   ...   ...   \n",
       "15  1607  [9월4주 전국] 전국 0.28%, 서울 0.47%, 수도권 0.39%  2020.09.25  4720  0.28   \n",
       "16  1606  [9월3주 전국] 전국 0.30%, 서울 0.56%, 수도권 0.43%  2020.09.18  3848  0.30   \n",
       "17  1605  [9월2주 전국] 전국 0.43%, 서울 0.50%, 수도권 0.50%  2020.09.11  3737  0.43   \n",
       "18  1604  [9월1주 전국] 전국 0.40%, 서울 0.57%, 수도권 0.51%  2020.09.04  4138  0.40   \n",
       "19  1603  [8월4주 전국] 전국 0.43%, 서울 0.59%, 수도권 0.50%  2020.08.28  4246  0.43   \n",
       "\n",
       "      서울   수도권  \n",
       "0   0.05  0.01  \n",
       "1   0.20  0.13  \n",
       "2   0.02 -0.02  \n",
       "3   0.12  0.08  \n",
       "4   0.00 -0.06  \n",
       "..   ...   ...  \n",
       "15  0.47  0.39  \n",
       "16  0.56  0.43  \n",
       "17  0.50  0.50  \n",
       "18  0.57  0.51  \n",
       "19  0.59  0.50  \n",
       "\n",
       "[200 rows x 7 columns]"
      ]
     },
     "execution_count": 5,
     "metadata": {},
     "output_type": "execute_result"
    }
   ],
   "source": [
    "df"
   ]
  },
  {
   "cell_type": "code",
   "execution_count": 6,
   "metadata": {},
   "outputs": [],
   "source": [
    "df_rate = df[['등록일'] + regions + ['번호']]"
   ]
  },
  {
   "cell_type": "code",
   "execution_count": 7,
   "metadata": {},
   "outputs": [],
   "source": [
    "df_rate = df_rate[::-1]"
   ]
  },
  {
   "cell_type": "code",
   "execution_count": 13,
   "metadata": {},
   "outputs": [],
   "source": [
    "df_rate['월'] = df_rate['등록일'].str.replace('.', '').astype('datetime64[ns]').dt.month\n",
    "df_rate['년도'] = df_rate['등록일'].str.replace('.', '').astype('datetime64[ns]').dt.year\n",
    "# df_rate.head(30).plot(x='등록일', y=['전국', '서울', '수도권'], figsize=(15, 6))"
   ]
  },
  {
   "cell_type": "code",
   "execution_count": 24,
   "metadata": {},
   "outputs": [
    {
     "data": {
      "text/plain": [
       "<Axes: xlabel='년도'>"
      ]
     },
     "execution_count": 24,
     "metadata": {},
     "output_type": "execute_result"
    },
    {
     "name": "stderr",
     "output_type": "stream",
     "text": [
      "C:\\Users\\USER\\AppData\\Roaming\\Python\\Python312\\site-packages\\IPython\\core\\events.py:82: UserWarning: Glyph 45380 (\\N{HANGUL SYLLABLE NYEON}) missing from font(s) DejaVu Sans.\n",
      "  func(*args, **kwargs)\n",
      "C:\\Users\\USER\\AppData\\Roaming\\Python\\Python312\\site-packages\\IPython\\core\\events.py:82: UserWarning: Glyph 46020 (\\N{HANGUL SYLLABLE DO}) missing from font(s) DejaVu Sans.\n",
      "  func(*args, **kwargs)\n",
      "C:\\Users\\USER\\AppData\\Roaming\\Python\\Python312\\site-packages\\IPython\\core\\events.py:82: UserWarning: Glyph 51204 (\\N{HANGUL SYLLABLE JEON}) missing from font(s) DejaVu Sans.\n",
      "  func(*args, **kwargs)\n",
      "C:\\Users\\USER\\AppData\\Roaming\\Python\\Python312\\site-packages\\IPython\\core\\events.py:82: UserWarning: Glyph 44397 (\\N{HANGUL SYLLABLE GUG}) missing from font(s) DejaVu Sans.\n",
      "  func(*args, **kwargs)\n",
      "C:\\Users\\USER\\AppData\\Roaming\\Python\\Python312\\site-packages\\IPython\\core\\events.py:82: UserWarning: Glyph 49436 (\\N{HANGUL SYLLABLE SEO}) missing from font(s) DejaVu Sans.\n",
      "  func(*args, **kwargs)\n",
      "C:\\Users\\USER\\AppData\\Roaming\\Python\\Python312\\site-packages\\IPython\\core\\events.py:82: UserWarning: Glyph 50872 (\\N{HANGUL SYLLABLE UL}) missing from font(s) DejaVu Sans.\n",
      "  func(*args, **kwargs)\n",
      "C:\\Users\\USER\\AppData\\Roaming\\Python\\Python312\\site-packages\\IPython\\core\\events.py:82: UserWarning: Glyph 49688 (\\N{HANGUL SYLLABLE SU}) missing from font(s) DejaVu Sans.\n",
      "  func(*args, **kwargs)\n",
      "C:\\Users\\USER\\AppData\\Roaming\\Python\\Python312\\site-packages\\IPython\\core\\events.py:82: UserWarning: Glyph 44428 (\\N{HANGUL SYLLABLE GWEON}) missing from font(s) DejaVu Sans.\n",
      "  func(*args, **kwargs)\n",
      "C:\\Users\\USER\\AppData\\Roaming\\Python\\Python312\\site-packages\\IPython\\core\\pylabtools.py:170: UserWarning: Glyph 45380 (\\N{HANGUL SYLLABLE NYEON}) missing from font(s) DejaVu Sans.\n",
      "  fig.canvas.print_figure(bytes_io, **kw)\n",
      "C:\\Users\\USER\\AppData\\Roaming\\Python\\Python312\\site-packages\\IPython\\core\\pylabtools.py:170: UserWarning: Glyph 46020 (\\N{HANGUL SYLLABLE DO}) missing from font(s) DejaVu Sans.\n",
      "  fig.canvas.print_figure(bytes_io, **kw)\n",
      "C:\\Users\\USER\\AppData\\Roaming\\Python\\Python312\\site-packages\\IPython\\core\\pylabtools.py:170: UserWarning: Glyph 51204 (\\N{HANGUL SYLLABLE JEON}) missing from font(s) DejaVu Sans.\n",
      "  fig.canvas.print_figure(bytes_io, **kw)\n",
      "C:\\Users\\USER\\AppData\\Roaming\\Python\\Python312\\site-packages\\IPython\\core\\pylabtools.py:170: UserWarning: Glyph 44397 (\\N{HANGUL SYLLABLE GUG}) missing from font(s) DejaVu Sans.\n",
      "  fig.canvas.print_figure(bytes_io, **kw)\n",
      "C:\\Users\\USER\\AppData\\Roaming\\Python\\Python312\\site-packages\\IPython\\core\\pylabtools.py:170: UserWarning: Glyph 49436 (\\N{HANGUL SYLLABLE SEO}) missing from font(s) DejaVu Sans.\n",
      "  fig.canvas.print_figure(bytes_io, **kw)\n",
      "C:\\Users\\USER\\AppData\\Roaming\\Python\\Python312\\site-packages\\IPython\\core\\pylabtools.py:170: UserWarning: Glyph 50872 (\\N{HANGUL SYLLABLE UL}) missing from font(s) DejaVu Sans.\n",
      "  fig.canvas.print_figure(bytes_io, **kw)\n",
      "C:\\Users\\USER\\AppData\\Roaming\\Python\\Python312\\site-packages\\IPython\\core\\pylabtools.py:170: UserWarning: Glyph 49688 (\\N{HANGUL SYLLABLE SU}) missing from font(s) DejaVu Sans.\n",
      "  fig.canvas.print_figure(bytes_io, **kw)\n",
      "C:\\Users\\USER\\AppData\\Roaming\\Python\\Python312\\site-packages\\IPython\\core\\pylabtools.py:170: UserWarning: Glyph 44428 (\\N{HANGUL SYLLABLE GWEON}) missing from font(s) DejaVu Sans.\n",
      "  fig.canvas.print_figure(bytes_io, **kw)\n"
     ]
    },
    {
     "data": {
      "image/png": "[encoded data removed]",
      "text/plain": [
       "<Figure size 640x480 with 1 Axes>"
      ]
     },
     "metadata": {},
     "output_type": "display_data"
    }
   ],
   "source": [
    "df_rate"
   ]
  }
 ],
 "metadata": {
  "kernelspec": {
   "display_name": "Python 3",
   "language": "python",
   "name": "python3"
  },
  "language_info": {
   "codemirror_mode": {
    "name": "ipython",
    "version": 3
   },
   "file_extension": ".py",
   "mimetype": "text/x-python",
   "name": "python",
   "nbconvert_exporter": "python",
   "pygments_lexer": "ipython3",
   "version": "3.12.4"
  }
 },
 "nbformat": 4,
 "nbformat_minor": 2
}
