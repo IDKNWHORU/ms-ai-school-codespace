{
  "cells": [
    {
      "cell_type": "markdown",
      "metadata": {
        "id": "do7VdYgXhTXF"
      },
      "source": [
        "##**★ 다음과 같이 작성해보세요.**\n",
        "- 다음과 같이 검색하여 파일을 생성합니다. 파일이름은 임의로 설정합니다.\n",
        " - 기상자료개발포털 : http://data.kma.go.kr --> '기후통계분석' --> '통계분석' --> '조건별 통계'\n",
        " - 기간 : 일, 2010 ~ 2023\n",
        " - 월 : 1 ~ 12, 일 : 1 ~ 31"
      ]
    },
    {
      "cell_type": "markdown",
      "metadata": {
        "id": "jNozRgar9n7o"
      },
      "source": [
        "###**1. 데이터 불러오기**"
      ]
    },
    {
      "cell_type": "code",
      "execution_count": 32,
      "metadata": {
        "id": "5WoxHqCfk0xA"
      },
      "outputs": [
        {
          "data": {
            "text/html": [
              "<div>\n",
              "<style scoped>\n",
              "    .dataframe tbody tr th:only-of-type {\n",
              "        vertical-align: middle;\n",
              "    }\n",
              "\n",
              "    .dataframe tbody tr th {\n",
              "        vertical-align: top;\n",
              "    }\n",
              "\n",
              "    .dataframe thead th {\n",
              "        text-align: right;\n",
              "    }\n",
              "</style>\n",
              "<table border=\"1\" class=\"dataframe\">\n",
              "  <thead>\n",
              "    <tr style=\"text-align: right;\">\n",
              "      <th></th>\n",
              "      <th>\\t\\t지점번호</th>\n",
              "      <th>지점명</th>\n",
              "      <th>일시</th>\n",
              "      <th>평균기온(℃)</th>\n",
              "      <th>최고기온(℃)</th>\n",
              "      <th>\\t최고기온시각</th>\n",
              "      <th>최저기온(℃)</th>\n",
              "      <th>최저기온시각일교차</th>\n",
              "      <th>Unnamed: 8</th>\n",
              "    </tr>\n",
              "  </thead>\n",
              "  <tbody>\n",
              "    <tr>\n",
              "      <th>0</th>\n",
              "      <td>\\t\\t108</td>\n",
              "      <td>서울</td>\n",
              "      <td>2010-01-01</td>\n",
              "      <td>-7.6</td>\n",
              "      <td>-3.6</td>\n",
              "      <td>15:01</td>\n",
              "      <td>-12.7</td>\n",
              "      <td>6:54</td>\n",
              "      <td>9.1</td>\n",
              "    </tr>\n",
              "    <tr>\n",
              "      <th>1</th>\n",
              "      <td>\\t\\t108</td>\n",
              "      <td>서울</td>\n",
              "      <td>2010-01-02</td>\n",
              "      <td>-3.6</td>\n",
              "      <td>0.2</td>\n",
              "      <td>15:24</td>\n",
              "      <td>-7.4</td>\n",
              "      <td>23:59</td>\n",
              "      <td>7.6</td>\n",
              "    </tr>\n",
              "    <tr>\n",
              "      <th>2</th>\n",
              "      <td>\\t\\t108</td>\n",
              "      <td>서울</td>\n",
              "      <td>2010-01-03</td>\n",
              "      <td>-6.8</td>\n",
              "      <td>-3.2</td>\n",
              "      <td>14:38</td>\n",
              "      <td>-10.5</td>\n",
              "      <td>7:48</td>\n",
              "      <td>7.3</td>\n",
              "    </tr>\n",
              "    <tr>\n",
              "      <th>3</th>\n",
              "      <td>\\t\\t108</td>\n",
              "      <td>서울</td>\n",
              "      <td>2010-01-04</td>\n",
              "      <td>-5.9</td>\n",
              "      <td>-3.4</td>\n",
              "      <td>14:25</td>\n",
              "      <td>-8.0</td>\n",
              "      <td>24:00:00</td>\n",
              "      <td>4.6</td>\n",
              "    </tr>\n",
              "    <tr>\n",
              "      <th>4</th>\n",
              "      <td>\\t\\t108</td>\n",
              "      <td>서울</td>\n",
              "      <td>2010-01-05</td>\n",
              "      <td>-9.9</td>\n",
              "      <td>-7.0</td>\n",
              "      <td>15:06</td>\n",
              "      <td>-12.3</td>\n",
              "      <td>23:33</td>\n",
              "      <td>5.3</td>\n",
              "    </tr>\n",
              "  </tbody>\n",
              "</table>\n",
              "</div>"
            ],
            "text/plain": [
              "  \\t\\t지점번호 지점명          일시  평균기온(℃)  최고기온(℃) \\t최고기온시각  최저기온(℃) 최저기온시각일교차  \\\n",
              "0  \\t\\t108  서울  2010-01-01     -7.6     -3.6    15:01    -12.7      6:54   \n",
              "1  \\t\\t108  서울  2010-01-02     -3.6      0.2    15:24     -7.4     23:59   \n",
              "2  \\t\\t108  서울  2010-01-03     -6.8     -3.2    14:38    -10.5      7:48   \n",
              "3  \\t\\t108  서울  2010-01-04     -5.9     -3.4    14:25     -8.0  24:00:00   \n",
              "4  \\t\\t108  서울  2010-01-05     -9.9     -7.0    15:06    -12.3     23:33   \n",
              "\n",
              "   Unnamed: 8  \n",
              "0         9.1  \n",
              "1         7.6  \n",
              "2         7.3  \n",
              "3         4.6  \n",
              "4         5.3  "
            ]
          },
          "execution_count": 32,
          "metadata": {},
          "output_type": "execute_result"
        }
      ],
      "source": [
        "import pandas as pd\n",
        "\n",
        "extream = pd.read_csv(\"../data/extremum_20240626150440.csv\",encoding=\"euc-kr\")\n",
        "extream.head()"
      ]
    },
    {
      "cell_type": "markdown",
      "metadata": {
        "id": "OZkW86Zq9vFU"
      },
      "source": [
        "###**2. 데이터 셋 재조정**\n",
        " - 지점번호, 지점명을 제외한 데이터만 가져오기<br>\n",
        "   - 변수명 = 변수명.loc[행레이블,열레이블]\n",
        " - 열이름 변경\n",
        "    - 변수명.columns=['열이름', '열이름', ....]"
      ]
    },
    {
      "cell_type": "code",
      "execution_count": 33,
      "metadata": {
        "id": "Aqzk-SDFlhxc"
      },
      "outputs": [
        {
          "data": {
            "text/html": [
              "<div>\n",
              "<style scoped>\n",
              "    .dataframe tbody tr th:only-of-type {\n",
              "        vertical-align: middle;\n",
              "    }\n",
              "\n",
              "    .dataframe tbody tr th {\n",
              "        vertical-align: top;\n",
              "    }\n",
              "\n",
              "    .dataframe thead th {\n",
              "        text-align: right;\n",
              "    }\n",
              "</style>\n",
              "<table border=\"1\" class=\"dataframe\">\n",
              "  <thead>\n",
              "    <tr style=\"text-align: right;\">\n",
              "      <th></th>\n",
              "      <th>일시</th>\n",
              "      <th>평균기온</th>\n",
              "      <th>최고기온</th>\n",
              "      <th>최고기온시각</th>\n",
              "      <th>최저기온</th>\n",
              "      <th>최저기온시각</th>\n",
              "      <th>일교차</th>\n",
              "    </tr>\n",
              "  </thead>\n",
              "  <tbody>\n",
              "    <tr>\n",
              "      <th>0</th>\n",
              "      <td>2010-01-01</td>\n",
              "      <td>-7.6</td>\n",
              "      <td>-3.6</td>\n",
              "      <td>15:01</td>\n",
              "      <td>-12.7</td>\n",
              "      <td>6:54</td>\n",
              "      <td>9.1</td>\n",
              "    </tr>\n",
              "    <tr>\n",
              "      <th>1</th>\n",
              "      <td>2010-01-02</td>\n",
              "      <td>-3.6</td>\n",
              "      <td>0.2</td>\n",
              "      <td>15:24</td>\n",
              "      <td>-7.4</td>\n",
              "      <td>23:59</td>\n",
              "      <td>7.6</td>\n",
              "    </tr>\n",
              "    <tr>\n",
              "      <th>2</th>\n",
              "      <td>2010-01-03</td>\n",
              "      <td>-6.8</td>\n",
              "      <td>-3.2</td>\n",
              "      <td>14:38</td>\n",
              "      <td>-10.5</td>\n",
              "      <td>7:48</td>\n",
              "      <td>7.3</td>\n",
              "    </tr>\n",
              "    <tr>\n",
              "      <th>3</th>\n",
              "      <td>2010-01-04</td>\n",
              "      <td>-5.9</td>\n",
              "      <td>-3.4</td>\n",
              "      <td>14:25</td>\n",
              "      <td>-8.0</td>\n",
              "      <td>24:00:00</td>\n",
              "      <td>4.6</td>\n",
              "    </tr>\n",
              "    <tr>\n",
              "      <th>4</th>\n",
              "      <td>2010-01-05</td>\n",
              "      <td>-9.9</td>\n",
              "      <td>-7.0</td>\n",
              "      <td>15:06</td>\n",
              "      <td>-12.3</td>\n",
              "      <td>23:33</td>\n",
              "      <td>5.3</td>\n",
              "    </tr>\n",
              "  </tbody>\n",
              "</table>\n",
              "</div>"
            ],
            "text/plain": [
              "           일시  평균기온  최고기온 최고기온시각  최저기온    최저기온시각  일교차\n",
              "0  2010-01-01  -7.6  -3.6  15:01 -12.7      6:54  9.1\n",
              "1  2010-01-02  -3.6   0.2  15:24  -7.4     23:59  7.6\n",
              "2  2010-01-03  -6.8  -3.2  14:38 -10.5      7:48  7.3\n",
              "3  2010-01-04  -5.9  -3.4  14:25  -8.0  24:00:00  4.6\n",
              "4  2010-01-05  -9.9  -7.0  15:06 -12.3     23:33  5.3"
            ]
          },
          "execution_count": 33,
          "metadata": {},
          "output_type": "execute_result"
        }
      ],
      "source": [
        "# 지점번호, 지점명을 제외한 데이터만 data 변수로 저장\n",
        "# 데이터프레임 변수 data의 열번호 변경 ==> '일시','평균기온','최고기온','최고기온시각','최저기온','최조기온시각','일교차'\n",
        "data = extream.loc[:,'일시':]\n",
        "data.columns=['일시','평균기온','최고기온','최고기온시각','최저기온','최저기온시각','일교차']\n",
        "data.head()\n"
      ]
    },
    {
      "cell_type": "code",
      "execution_count": 34,
      "metadata": {},
      "outputs": [
        {
          "name": "stdout",
          "output_type": "stream",
          "text": [
            "<class 'pandas.core.frame.DataFrame'>\n",
            "RangeIndex: 5121 entries, 0 to 5120\n",
            "Data columns (total 7 columns):\n",
            " #   Column  Non-Null Count  Dtype  \n",
            "---  ------  --------------  -----  \n",
            " 0   일시      5113 non-null   object \n",
            " 1   평균기온    5113 non-null   float64\n",
            " 2   최고기온    5112 non-null   float64\n",
            " 3   최고기온시각  5112 non-null   object \n",
            " 4   최저기온    5112 non-null   float64\n",
            " 5   최저기온시각  5112 non-null   object \n",
            " 6   일교차     5111 non-null   float64\n",
            "dtypes: float64(4), object(3)\n",
            "memory usage: 280.2+ KB\n"
          ]
        }
      ],
      "source": [
        "data.info()"
      ]
    },
    {
      "cell_type": "markdown",
      "metadata": {
        "id": "XHk6gCsX_J7p"
      },
      "source": [
        "###**3. 결측값 확인**\n",
        "- 결측값 개수 확인 : 변수명.isnull().sum()\n",
        "- 결측값 데이터 확인 : 변수명[변수명['컬럼명'].isnull( )]"
      ]
    },
    {
      "cell_type": "code",
      "execution_count": 35,
      "metadata": {
        "id": "Yw46LBvX6tpw"
      },
      "outputs": [
        {
          "data": {
            "text/plain": [
              "일시         8\n",
              "평균기온       8\n",
              "최고기온       9\n",
              "최고기온시각     9\n",
              "최저기온       9\n",
              "최저기온시각     9\n",
              "일교차       10\n",
              "dtype: int64"
            ]
          },
          "execution_count": 35,
          "metadata": {},
          "output_type": "execute_result"
        }
      ],
      "source": [
        "# 결측값 개수 확인\n",
        "data.isnull().sum()"
      ]
    },
    {
      "cell_type": "code",
      "execution_count": 36,
      "metadata": {
        "id": "aJyqk1-FGrON"
      },
      "outputs": [],
      "source": [
        "# 결측값 데이터 확인\n",
        "\n"
      ]
    },
    {
      "cell_type": "markdown",
      "metadata": {
        "id": "lin2FuCMBvL9"
      },
      "source": [
        "###**4. 결측값 행/열 삭제**\n",
        "- 결측값이 들어있는 행 전체 삭제하기 : 변수명.dropna(axis=0)\n",
        "- 결측값이 들어있는 열 전체 삭제하기 : 변수명.dropna(axis=1)\n"
      ]
    },
    {
      "cell_type": "code",
      "execution_count": 46,
      "metadata": {
        "id": "l6KMN4J34onK"
      },
      "outputs": [],
      "source": [
        "# 결측값 행 전체 삭제\n",
        "\n",
        "data.dropna(axis=0, inplace=True)"
      ]
    },
    {
      "cell_type": "code",
      "execution_count": 47,
      "metadata": {
        "id": "el5TkGdXFumO"
      },
      "outputs": [
        {
          "name": "stdout",
          "output_type": "stream",
          "text": [
            "<class 'pandas.core.frame.DataFrame'>\n",
            "Index: 5111 entries, 0 to 5112\n",
            "Data columns (total 7 columns):\n",
            " #   Column  Non-Null Count  Dtype  \n",
            "---  ------  --------------  -----  \n",
            " 0   일시      5111 non-null   object \n",
            " 1   평균기온    5111 non-null   float64\n",
            " 2   최고기온    5111 non-null   float64\n",
            " 3   최고기온시각  5111 non-null   object \n",
            " 4   최저기온    5111 non-null   float64\n",
            " 5   최저기온시각  5111 non-null   object \n",
            " 6   일교차     5111 non-null   float64\n",
            "dtypes: float64(4), object(3)\n",
            "memory usage: 319.4+ KB\n"
          ]
        }
      ],
      "source": [
        "# 기본 정보 확인\n",
        "data.info()\n"
      ]
    },
    {
      "cell_type": "markdown",
      "metadata": {
        "id": "7ZQV3sJKHhTr"
      },
      "source": [
        "###**5-1. 최고기온과 해당 날짜 출력**\n",
        "- ⓐ 최고기온 계산 : '최고기온' 컬럼에서 최대값 계산(max() 함수)\n",
        " - hint : 변수명['컬럼명'].max( )\n",
        "- '최고기온' 컬럼에서 'ⓐ 계산된 최고기온'과 같은 데이터 검색\n",
        " - hint : 변수명[변수명['컬럼명'] == 비교값] [ ['컬럼명1', '컬럼명2', ....] ]\n",
        "- index 재조정 : 변수명.reset_index( )\n",
        "- '날짜', '최고온도' 컬럼 출력 : 변수명.loc[행레이블,열레이블]\n",
        "\n",
        "```\n",
        "[출력결과]\n",
        "00 지역에서 최고 기온이 가장 높았던 날은 0000-00-00 로 00.0도 였습니다.\n",
        "```\n",
        "\n"
      ]
    },
    {
      "cell_type": "code",
      "execution_count": 63,
      "metadata": {},
      "outputs": [
        {
          "data": {
            "text/html": [
              "<div>\n",
              "<style scoped>\n",
              "    .dataframe tbody tr th:only-of-type {\n",
              "        vertical-align: middle;\n",
              "    }\n",
              "\n",
              "    .dataframe tbody tr th {\n",
              "        vertical-align: top;\n",
              "    }\n",
              "\n",
              "    .dataframe thead th {\n",
              "        text-align: right;\n",
              "    }\n",
              "</style>\n",
              "<table border=\"1\" class=\"dataframe\">\n",
              "  <thead>\n",
              "    <tr style=\"text-align: right;\">\n",
              "      <th></th>\n",
              "      <th>index</th>\n",
              "      <th>일시</th>\n",
              "      <th>평균기온</th>\n",
              "      <th>최고기온</th>\n",
              "      <th>최저기온</th>\n",
              "      <th>일교차</th>\n",
              "    </tr>\n",
              "  </thead>\n",
              "  <tbody>\n",
              "    <tr>\n",
              "      <th>0</th>\n",
              "      <td>3134</td>\n",
              "      <td>2018-08-01</td>\n",
              "      <td>33.6</td>\n",
              "      <td>39.6</td>\n",
              "      <td>27.8</td>\n",
              "      <td>11.8</td>\n",
              "    </tr>\n",
              "  </tbody>\n",
              "</table>\n",
              "</div>"
            ],
            "text/plain": [
              "   index          일시  평균기온  최고기온  최저기온   일교차\n",
              "0   3134  2018-08-01  33.6  39.6  27.8  11.8"
            ]
          },
          "execution_count": 63,
          "metadata": {},
          "output_type": "execute_result"
        }
      ],
      "source": [
        "maxData = data.loc[data['최고기온'] == data['최고기온'].max(), ['일시','평균기온','최고기온','최저기온','일교차']]\n",
        "maxData = maxData.reset_index()\n"
      ]
    },
    {
      "cell_type": "code",
      "execution_count": 81,
      "metadata": {
        "id": "tZzwW6zwmt6f"
      },
      "outputs": [
        {
          "name": "stdout",
          "output_type": "stream",
          "text": [
            "서울에서 최고 기온이 가장 높았던 날은 2018-08-01 로 39.6 도 였습니다.\n"
          ]
        }
      ],
      "source": [
        "# '최고기온' 컬럼에서 '계산된 최고기온'과 같은 데이터 검색하여 maxData 변수에 저장\n",
        "# maxData 데이터프레임의 index 초기화\n",
        "# maxData 데이터프레임에서 '일시'와 '최고기온' 출력 - 변수명.loc[0,열이름]\n",
        "print(\"서울에서 최고 기온이 가장 높았던 날은\", maxData.loc[0 ,\"일시\"], \"로\", maxData.loc[0, \"최고기온\"], \"도 였습니다.\")\n"
      ]
    },
    {
      "cell_type": "markdown",
      "metadata": {
        "id": "LxySdGNlKvTW"
      },
      "source": [
        "###**5-2. 최저기온와 해당 날짜 출력**\n",
        "- ⓑ 최저기온 계산 : '최저기온' 컬럼에서 최소값 계산(min() 함수)\n",
        "- '최저기온' 컬럼에서 'ⓑ 계산된 최저기온'과 같은 데이터 검색\n",
        "- index 재조정 : 변수명.reset_index( )\n",
        "- '날짜', '최저온도' 컬럼 출력 : 변수명.loc[행레이블,열레이블]\n",
        "\n",
        "```\n",
        "[출력결과]\n",
        "00 지역에서 최저 기온이 가장 낮았던 날은 0000-00-00 로 00.0도 였습니다.\n",
        "```"
      ]
    },
    {
      "cell_type": "code",
      "execution_count": 82,
      "metadata": {
        "id": "y6TcAlYiLYI0"
      },
      "outputs": [
        {
          "name": "stdout",
          "output_type": "stream",
          "text": [
            "서울에서 최저 기온이 가장 낮았던 날은 2021-01-08 로 -18.6 도 였습니다.\n"
          ]
        }
      ],
      "source": [
        "# '최저기온' 컬럼에서 '계산된 최저기온'과 같은 데이터 검색하여 minData 변수에 저장\n",
        "# minData 데이터프레임의 index 초기화\n",
        "# minData 데이터프레임에서 '일시'와 '최저기온' 출력 - 변수명.loc[0,열이름]\n",
        "minData = data.loc[data['최저기온'] == data['최저기온'].min(), ['일시','평균기온','최고기온','최저기온','일교차']]\n",
        "minData = minData.reset_index()\n",
        "print(\"서울에서 최저 기온이 가장 낮았던 날은\", minData.loc[0 ,\"일시\"], \"로\", minData.loc[0, \"최저기온\"], \"도 였습니다.\")\n"
      ]
    },
    {
      "cell_type": "markdown",
      "metadata": {
        "id": "zOZH6L4UMo4v"
      },
      "source": [
        "###**7. 본인 생일 날짜의 기온 변화 그래프 작성**\n",
        "- **1단계 : '일시' 열에서 '년'만, '월-일'만 추출하여 새로운 열 생성**\n",
        " - 인덱싱 : 변수명['컬럼명'].str[ ]\n",
        " - '년도' 열 생성 : '일시' 컬럼의 값에서 앞 4자리까지만 추출 ==> data['년도'] = data['일시'].str[ :4 ]\n",
        " - '날짜' 열 생성 : '일시' 컬럼의 값에서 5자리부터 끝까지만 추출 ==> data['날짜'] = data['일시'].str[ 5: ]\n",
        "\n",
        "- **2단계 : 생성된 '날짜'열 값에서 본인 생일과 동일한 날짜 검색**\n",
        "- **3단계 :'년도(2010 ~ 2023)'별로 '최고기온'과 '최저기온' 변화 꺽은선 그래프 작성**\n",
        "  - 차트 크기 : plt.figure(figsize=(가로, 세로)), 단위:inch\n",
        "  - 차트 제목 : plt.title(\"제목\")\n",
        "  - 차트 범례 : plt.legend( )\n",
        "  - 차트 보여주기 : plt.show( )"
      ]
    },
    {
      "cell_type": "code",
      "execution_count": 85,
      "metadata": {
        "id": "7k-hfxJPWXWZ"
      },
      "outputs": [
        {
          "name": "stdout",
          "output_type": "stream",
          "text": [
            "Requirement already satisfied: koreanize-matplotlib in c:\\users\\user\\appdata\\local\\programs\\python\\python312\\lib\\site-packages (0.1.1)\n",
            "Requirement already satisfied: matplotlib in c:\\users\\user\\appdata\\local\\programs\\python\\python312\\lib\\site-packages (from koreanize-matplotlib) (3.9.0)\n",
            "Requirement already satisfied: contourpy>=1.0.1 in c:\\users\\user\\appdata\\local\\programs\\python\\python312\\lib\\site-packages (from matplotlib->koreanize-matplotlib) (1.2.1)\n",
            "Requirement already satisfied: cycler>=0.10 in c:\\users\\user\\appdata\\local\\programs\\python\\python312\\lib\\site-packages (from matplotlib->koreanize-matplotlib) (0.12.1)\n",
            "Requirement already satisfied: fonttools>=4.22.0 in c:\\users\\user\\appdata\\local\\programs\\python\\python312\\lib\\site-packages (from matplotlib->koreanize-matplotlib) (4.53.0)\n",
            "Requirement already satisfied: kiwisolver>=1.3.1 in c:\\users\\user\\appdata\\local\\programs\\python\\python312\\lib\\site-packages (from matplotlib->koreanize-matplotlib) (1.4.5)\n",
            "Requirement already satisfied: numpy>=1.23 in c:\\users\\user\\appdata\\local\\programs\\python\\python312\\lib\\site-packages (from matplotlib->koreanize-matplotlib) (2.0.0)\n",
            "Requirement already satisfied: packaging>=20.0 in c:\\users\\user\\appdata\\roaming\\python\\python312\\site-packages (from matplotlib->koreanize-matplotlib) (24.1)\n",
            "Requirement already satisfied: pillow>=8 in c:\\users\\user\\appdata\\local\\programs\\python\\python312\\lib\\site-packages (from matplotlib->koreanize-matplotlib) (10.3.0)\n",
            "Requirement already satisfied: pyparsing>=2.3.1 in c:\\users\\user\\appdata\\local\\programs\\python\\python312\\lib\\site-packages (from matplotlib->koreanize-matplotlib) (3.1.2)\n",
            "Requirement already satisfied: python-dateutil>=2.7 in c:\\users\\user\\appdata\\roaming\\python\\python312\\site-packages (from matplotlib->koreanize-matplotlib) (2.9.0.post0)\n",
            "Requirement already satisfied: six>=1.5 in c:\\users\\user\\appdata\\roaming\\python\\python312\\site-packages (from python-dateutil>=2.7->matplotlib->koreanize-matplotlib) (1.16.0)\n"
          ]
        },
        {
          "name": "stderr",
          "output_type": "stream",
          "text": [
            "\n",
            "[notice] A new release of pip is available: 24.0 -> 24.1\n",
            "[notice] To update, run: python.exe -m pip install --upgrade pip\n",
            "ERROR: Could not find a version that satisfies the requirement distutils (from versions: none)\n",
            "ERROR: No matching distribution found for distutils\n",
            "\n",
            "[notice] A new release of pip is available: 24.0 -> 24.1\n",
            "[notice] To update, run: python.exe -m pip install --upgrade pip\n"
          ]
        },
        {
          "ename": "ModuleNotFoundError",
          "evalue": "No module named 'distutils'",
          "output_type": "error",
          "traceback": [
            "\u001b[1;31m---------------------------------------------------------------------------\u001b[0m",
            "\u001b[1;31mModuleNotFoundError\u001b[0m                       Traceback (most recent call last)",
            "Cell \u001b[1;32mIn[85], line 4\u001b[0m\n\u001b[0;32m      2\u001b[0m get_ipython()\u001b[38;5;241m.\u001b[39msystem(\u001b[38;5;124m'\u001b[39m\u001b[38;5;124mpip install koreanize-matplotlib\u001b[39m\u001b[38;5;124m'\u001b[39m)\n\u001b[0;32m      3\u001b[0m get_ipython()\u001b[38;5;241m.\u001b[39msystem(\u001b[38;5;124m'\u001b[39m\u001b[38;5;124mpip install distutils\u001b[39m\u001b[38;5;124m'\u001b[39m)\n\u001b[1;32m----> 4\u001b[0m \u001b[38;5;28;01mimport\u001b[39;00m \u001b[38;5;21;01mkoreanize_matplotlib\u001b[39;00m\n",
            "File \u001b[1;32mc:\\Users\\USER\\AppData\\Local\\Programs\\Python\\Python312\\Lib\\site-packages\\koreanize_matplotlib\\__init__.py:1\u001b[0m\n\u001b[1;32m----> 1\u001b[0m \u001b[38;5;28;01mfrom\u001b[39;00m \u001b[38;5;21;01mkoreanize_matplotlib\u001b[39;00m\u001b[38;5;21;01m.\u001b[39;00m\u001b[38;5;21;01mkoreanize_matplotlib\u001b[39;00m \u001b[38;5;28;01mimport\u001b[39;00m koreanize, get_font_path, get_font_ttf_path\n",
            "File \u001b[1;32mc:\\Users\\USER\\AppData\\Local\\Programs\\Python\\Python312\\Lib\\site-packages\\koreanize_matplotlib\\koreanize_matplotlib.py:5\u001b[0m\n\u001b[0;32m      3\u001b[0m \u001b[38;5;28;01mimport\u001b[39;00m \u001b[38;5;21;01mmatplotlib\u001b[39;00m\n\u001b[0;32m      4\u001b[0m \u001b[38;5;28;01mfrom\u001b[39;00m \u001b[38;5;21;01mmatplotlib\u001b[39;00m \u001b[38;5;28;01mimport\u001b[39;00m font_manager\n\u001b[1;32m----> 5\u001b[0m \u001b[38;5;28;01mfrom\u001b[39;00m \u001b[38;5;21;01mdistutils\u001b[39;00m\u001b[38;5;21;01m.\u001b[39;00m\u001b[38;5;21;01mversion\u001b[39;00m \u001b[38;5;28;01mimport\u001b[39;00m LooseVersion\n\u001b[0;32m      7\u001b[0m FONTS_DIR \u001b[38;5;241m=\u001b[39m \u001b[38;5;124m'\u001b[39m\u001b[38;5;124mfonts\u001b[39m\u001b[38;5;124m'\u001b[39m\n\u001b[0;32m      8\u001b[0m FONT_NAME \u001b[38;5;241m=\u001b[39m \u001b[38;5;124m\"\u001b[39m\u001b[38;5;124mNanumGothic\u001b[39m\u001b[38;5;124m\"\u001b[39m\n",
            "\u001b[1;31mModuleNotFoundError\u001b[0m: No module named 'distutils'"
          ]
        }
      ],
      "source": [
        "# 한글 폰트 설치\n",
        "!pip install koreanize-matplotlib\n",
        "import koreanize_matplotlib"
      ]
    },
    {
      "cell_type": "code",
      "execution_count": 89,
      "metadata": {
        "id": "OTB9D59QRY5V"
      },
      "outputs": [
        {
          "name": "stdout",
          "output_type": "stream",
          "text": [
            "<class 'pandas.core.frame.DataFrame'>\n",
            "Index: 5111 entries, 0 to 5112\n",
            "Data columns (total 9 columns):\n",
            " #   Column  Non-Null Count  Dtype  \n",
            "---  ------  --------------  -----  \n",
            " 0   일시      5111 non-null   object \n",
            " 1   평균기온    5111 non-null   float64\n",
            " 2   최고기온    5111 non-null   float64\n",
            " 3   최고기온시각  5111 non-null   object \n",
            " 4   최저기온    5111 non-null   float64\n",
            " 5   최저기온시각  5111 non-null   object \n",
            " 6   일교차     5111 non-null   float64\n",
            " 7   년도      5111 non-null   object \n",
            " 8   날짜      5111 non-null   object \n",
            "dtypes: float64(4), object(5)\n",
            "memory usage: 399.3+ KB\n"
          ]
        }
      ],
      "source": [
        "# 1단계 : '일시' 열에서 새로운 열 '년도'과 '날짜'열 생성\n",
        "data['년도'] = data['일시'].str[:4]\n",
        "data['날짜'] = data['일시'].str[5:]\n",
        "data.info()"
      ]
    },
    {
      "cell_type": "code",
      "execution_count": 94,
      "metadata": {},
      "outputs": [
        {
          "name": "stdout",
          "output_type": "stream",
          "text": [
            "<class 'pandas.core.frame.DataFrame'>\n",
            "Index: 5111 entries, 0 to 5112\n",
            "Data columns (total 9 columns):\n",
            " #   Column  Non-Null Count  Dtype  \n",
            "---  ------  --------------  -----  \n",
            " 0   일시      5111 non-null   object \n",
            " 1   평균기온    5111 non-null   float64\n",
            " 2   최고기온    5111 non-null   float64\n",
            " 3   최고기온시각  5111 non-null   object \n",
            " 4   최저기온    5111 non-null   float64\n",
            " 5   최저기온시각  5111 non-null   object \n",
            " 6   일교차     5111 non-null   float64\n",
            " 7   년도      5111 non-null   int64  \n",
            " 8   날짜      5111 non-null   object \n",
            "dtypes: float64(4), int64(1), object(4)\n",
            "memory usage: 399.3+ KB\n"
          ]
        }
      ],
      "source": [
        "data['년도'] = data['년도'].astype(int)\n",
        "data.info()"
      ]
    },
    {
      "cell_type": "code",
      "execution_count": 124,
      "metadata": {},
      "outputs": [],
      "source": [
        "# 년도별로 평균기온의 평균 계산\n",
        "meanData = data.groupby('년도')[['평균기온']].mean()"
      ]
    },
    {
      "cell_type": "code",
      "execution_count": 97,
      "metadata": {
        "id": "atP6Y8xlTIGz"
      },
      "outputs": [],
      "source": [
        "# 2단계 : 생성된 '날짜'열 값에서 본인 생일과 동일한 날짜 검색하여 birthData 변수에 저장\n",
        "# 예: data[data['날짜']=='10-01']\n",
        "birthData = data[data['날짜']=='10-28']"
      ]
    },
    {
      "cell_type": "code",
      "execution_count": 99,
      "metadata": {},
      "outputs": [
        {
          "data": {
            "text/html": [
              "<div>\n",
              "<style scoped>\n",
              "    .dataframe tbody tr th:only-of-type {\n",
              "        vertical-align: middle;\n",
              "    }\n",
              "\n",
              "    .dataframe tbody tr th {\n",
              "        vertical-align: top;\n",
              "    }\n",
              "\n",
              "    .dataframe thead th {\n",
              "        text-align: right;\n",
              "    }\n",
              "</style>\n",
              "<table border=\"1\" class=\"dataframe\">\n",
              "  <thead>\n",
              "    <tr style=\"text-align: right;\">\n",
              "      <th></th>\n",
              "      <th>일시</th>\n",
              "      <th>평균기온</th>\n",
              "      <th>최고기온</th>\n",
              "      <th>최고기온시각</th>\n",
              "      <th>최저기온</th>\n",
              "      <th>최저기온시각</th>\n",
              "      <th>일교차</th>\n",
              "      <th>년도</th>\n",
              "      <th>날짜</th>\n",
              "    </tr>\n",
              "  </thead>\n",
              "  <tbody>\n",
              "    <tr>\n",
              "      <th>300</th>\n",
              "      <td>2010-10-28</td>\n",
              "      <td>7.2</td>\n",
              "      <td>12.3</td>\n",
              "      <td>15:53</td>\n",
              "      <td>2.1</td>\n",
              "      <td>4:47</td>\n",
              "      <td>10.2</td>\n",
              "      <td>2010</td>\n",
              "      <td>10-28</td>\n",
              "    </tr>\n",
              "    <tr>\n",
              "      <th>665</th>\n",
              "      <td>2011-10-28</td>\n",
              "      <td>14.5</td>\n",
              "      <td>19.8</td>\n",
              "      <td>14:35</td>\n",
              "      <td>11.0</td>\n",
              "      <td>7:15</td>\n",
              "      <td>8.8</td>\n",
              "      <td>2011</td>\n",
              "      <td>10-28</td>\n",
              "    </tr>\n",
              "    <tr>\n",
              "      <th>1031</th>\n",
              "      <td>2012-10-28</td>\n",
              "      <td>14.3</td>\n",
              "      <td>18.8</td>\n",
              "      <td>13:58</td>\n",
              "      <td>10.8</td>\n",
              "      <td>23:46</td>\n",
              "      <td>8.0</td>\n",
              "      <td>2012</td>\n",
              "      <td>10-28</td>\n",
              "    </tr>\n",
              "    <tr>\n",
              "      <th>1396</th>\n",
              "      <td>2013-10-28</td>\n",
              "      <td>11.6</td>\n",
              "      <td>16.7</td>\n",
              "      <td>13:51</td>\n",
              "      <td>6.7</td>\n",
              "      <td>7:00</td>\n",
              "      <td>10.0</td>\n",
              "      <td>2013</td>\n",
              "      <td>10-28</td>\n",
              "    </tr>\n",
              "    <tr>\n",
              "      <th>1761</th>\n",
              "      <td>2014-10-28</td>\n",
              "      <td>10.2</td>\n",
              "      <td>19.4</td>\n",
              "      <td>15:07</td>\n",
              "      <td>2.7</td>\n",
              "      <td>7:03</td>\n",
              "      <td>16.7</td>\n",
              "      <td>2014</td>\n",
              "      <td>10-28</td>\n",
              "    </tr>\n",
              "  </tbody>\n",
              "</table>\n",
              "</div>"
            ],
            "text/plain": [
              "              일시  평균기온  최고기온 최고기온시각  최저기온 최저기온시각   일교차    년도     날짜\n",
              "300   2010-10-28   7.2  12.3  15:53   2.1   4:47  10.2  2010  10-28\n",
              "665   2011-10-28  14.5  19.8  14:35  11.0   7:15   8.8  2011  10-28\n",
              "1031  2012-10-28  14.3  18.8  13:58  10.8  23:46   8.0  2012  10-28\n",
              "1396  2013-10-28  11.6  16.7  13:51   6.7   7:00  10.0  2013  10-28\n",
              "1761  2014-10-28  10.2  19.4  15:07   2.7   7:03  16.7  2014  10-28"
            ]
          },
          "execution_count": 99,
          "metadata": {},
          "output_type": "execute_result"
        }
      ],
      "source": [
        "birthData.head()"
      ]
    },
    {
      "cell_type": "code",
      "execution_count": 120,
      "metadata": {},
      "outputs": [
        {
          "name": "stdout",
          "output_type": "stream",
          "text": [
            "가장 더운 해: 2017 , 가장 추운 해: 2010\n"
          ]
        }
      ],
      "source": [
        "max_temp = birthData.loc[birthData['최고기온'] == birthData['최고기온'].max()].reset_index()\n",
        "min_temp = birthData.loc[birthData['최저기온'] == birthData['최저기온'].min()].reset_index()\n",
        "\n",
        "print('가장 더운 해:', max_temp.loc[0,'년도'], ', 가장 추운 해:', min_temp.loc[0,'년도'])"
      ]
    },
    {
      "cell_type": "code",
      "execution_count": 138,
      "metadata": {
        "id": "6w9K8oeypRtK"
      },
      "outputs": [
        {
          "name": "stdout",
          "output_type": "stream",
          "text": [
            "Requirement already satisfied: matplotlib in c:\\users\\user\\appdata\\local\\programs\\python\\python312\\lib\\site-packages (3.9.0)\n",
            "Requirement already satisfied: contourpy>=1.0.1 in c:\\users\\user\\appdata\\local\\programs\\python\\python312\\lib\\site-packages (from matplotlib) (1.2.1)\n",
            "Requirement already satisfied: cycler>=0.10 in c:\\users\\user\\appdata\\local\\programs\\python\\python312\\lib\\site-packages (from matplotlib) (0.12.1)\n",
            "Requirement already satisfied: fonttools>=4.22.0 in c:\\users\\user\\appdata\\local\\programs\\python\\python312\\lib\\site-packages (from matplotlib) (4.53.0)\n",
            "Requirement already satisfied: kiwisolver>=1.3.1 in c:\\users\\user\\appdata\\local\\programs\\python\\python312\\lib\\site-packages (from matplotlib) (1.4.5)\n",
            "Requirement already satisfied: numpy>=1.23 in c:\\users\\user\\appdata\\local\\programs\\python\\python312\\lib\\site-packages (from matplotlib) (2.0.0)\n",
            "Requirement already satisfied: packaging>=20.0 in c:\\users\\user\\appdata\\roaming\\python\\python312\\site-packages (from matplotlib) (24.1)\n",
            "Requirement already satisfied: pillow>=8 in c:\\users\\user\\appdata\\local\\programs\\python\\python312\\lib\\site-packages (from matplotlib) (10.3.0)\n",
            "Requirement already satisfied: pyparsing>=2.3.1 in c:\\users\\user\\appdata\\local\\programs\\python\\python312\\lib\\site-packages (from matplotlib) (3.1.2)\n",
            "Requirement already satisfied: python-dateutil>=2.7 in c:\\users\\user\\appdata\\roaming\\python\\python312\\site-packages (from matplotlib) (2.9.0.post0)\n",
            "Requirement already satisfied: six>=1.5 in c:\\users\\user\\appdata\\roaming\\python\\python312\\site-packages (from python-dateutil>=2.7->matplotlib) (1.16.0)\n",
            "Note: you may need to restart the kernel to use updated packages.\n"
          ]
        },
        {
          "name": "stderr",
          "output_type": "stream",
          "text": [
            "\n",
            "[notice] A new release of pip is available: 24.0 -> 24.1\n",
            "[notice] To update, run: python.exe -m pip install --upgrade pip\n"
          ]
        },
        {
          "data": {
            "text/plain": [
              "<function matplotlib.pyplot.show(close=None, block=None)>"
            ]
          },
          "execution_count": 138,
          "metadata": {},
          "output_type": "execute_result"
        },
        {
          "data": {
            "image/png": "[encoded data removed]",
            "text/plain": [
              "<Figure size 640x480 with 1 Axes>"
            ]
          },
          "metadata": {},
          "output_type": "display_data"
        }
      ],
      "source": [
        "# 3단계 :'년도(2010 ~ 2023)'별로 '최고기온'과 '최저기온' 꺽은선 그래프 작성, birthData 변수 이용\n",
        "# 차트 사이즈 : 가로 - 12 inch, 세로 - 10 inch\n",
        "%pip install matplotlib\n",
        "import matplotlib.pyplot as plt\n",
        "plt.plot(birthData['년도'], birthData['최고기온'], label='max')\n",
        "plt.plot(birthData['년도'], birthData['최저기온'], label='min')\n",
        "plt.grid()\n",
        "plt.legend()\n",
        "plt.show"
      ]
    }
  ],
  "metadata": {
    "colab": {
      "provenance": []
    },
    "kernelspec": {
      "display_name": "Python 3",
      "name": "python3"
    },
    "language_info": {
      "codemirror_mode": {
        "name": "ipython",
        "version": 3
      },
      "file_extension": ".py",
      "mimetype": "text/x-python",
      "name": "python",
      "nbconvert_exporter": "python",
      "pygments_lexer": "ipython3",
      "version": "3.12.4"
    }
  },
  "nbformat": 4,
  "nbformat_minor": 0
}
