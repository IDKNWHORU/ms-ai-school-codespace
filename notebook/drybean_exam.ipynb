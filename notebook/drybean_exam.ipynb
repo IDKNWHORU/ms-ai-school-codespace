{
 "cells": [
  {
   "cell_type": "code",
   "execution_count": 22,
   "metadata": {},
   "outputs": [
    {
     "name": "stdout",
     "output_type": "stream",
     "text": [
      "Area                 int64\n",
      "Perimeter          float64\n",
      "MajorAxisLength    float64\n",
      "MinorAxisLength    float64\n",
      "AspectRation       float64\n",
      "Eccentricity       float64\n",
      "ConvexArea           int64\n",
      "EquivDiameter      float64\n",
      "Extent             float64\n",
      "Solidity           float64\n",
      "roundness          float64\n",
      "Compactness        float64\n",
      "ShapeFactor1       float64\n",
      "ShapeFactor2       float64\n",
      "ShapeFactor3       float64\n",
      "ShapeFactor4       float64\n",
      "Class               object\n",
      "dtype: object\n"
     ]
    }
   ],
   "source": [
    "# 퀴즈 1: 데이터 가져오기 및 검사하기\n",
    "# 'Dry_Bean_Dataset.csv'라는 이름의 csv 파일에 데이터셋이 있다고 가정합니다.\n",
    "# 이 데이터셋을 불러와서 데이터프레임을 만들고, 데이터프레임의 첫 5개 행과 마지막 5개 행을 출력하세요. 그리고 데이터프레임의 정보를 출력하세요.\n",
    "import pandas as pd\n",
    "import numpy as np\n",
    "df = pd.read_csv(\"../data/Dry_Bean_Dataset.csv\")\n",
    "\n",
    "print(df.dtypes)"
   ]
  },
  {
   "cell_type": "code",
   "execution_count": 14,
   "metadata": {},
   "outputs": [
    {
     "data": {
      "text/html": [
       "<div>\n",
       "<style scoped>\n",
       "    .dataframe tbody tr th:only-of-type {\n",
       "        vertical-align: middle;\n",
       "    }\n",
       "\n",
       "    .dataframe tbody tr th {\n",
       "        vertical-align: top;\n",
       "    }\n",
       "\n",
       "    .dataframe thead th {\n",
       "        text-align: right;\n",
       "    }\n",
       "</style>\n",
       "<table border=\"1\" class=\"dataframe\">\n",
       "  <thead>\n",
       "    <tr style=\"text-align: right;\">\n",
       "      <th></th>\n",
       "      <th>Area</th>\n",
       "      <th>Perimeter</th>\n",
       "      <th>MajorAxisLength</th>\n",
       "      <th>MinorAxisLength</th>\n",
       "      <th>AspectRation</th>\n",
       "      <th>Eccentricity</th>\n",
       "      <th>ConvexArea</th>\n",
       "      <th>EquivDiameter</th>\n",
       "      <th>Extent</th>\n",
       "      <th>Solidity</th>\n",
       "      <th>roundness</th>\n",
       "      <th>Compactness</th>\n",
       "      <th>ShapeFactor1</th>\n",
       "      <th>ShapeFactor2</th>\n",
       "      <th>ShapeFactor3</th>\n",
       "      <th>ShapeFactor4</th>\n",
       "      <th>Class</th>\n",
       "    </tr>\n",
       "  </thead>\n",
       "  <tbody>\n",
       "    <tr>\n",
       "      <th>1251</th>\n",
       "      <td>30006</td>\n",
       "      <td>652.956</td>\n",
       "      <td>238.613862</td>\n",
       "      <td>160.431713</td>\n",
       "      <td>1.487324</td>\n",
       "      <td>0.740235</td>\n",
       "      <td>30456</td>\n",
       "      <td>195.460548</td>\n",
       "      <td>0.729913</td>\n",
       "      <td>0.985225</td>\n",
       "      <td>0.884403</td>\n",
       "      <td>0.819150</td>\n",
       "      <td>0.007952</td>\n",
       "      <td>0.002209</td>\n",
       "      <td>0.671007</td>\n",
       "      <td>0.998004</td>\n",
       "      <td>DERMASON</td>\n",
       "    </tr>\n",
       "    <tr>\n",
       "      <th>1252</th>\n",
       "      <td>30008</td>\n",
       "      <td>645.884</td>\n",
       "      <td>210.557999</td>\n",
       "      <td>182.516516</td>\n",
       "      <td>1.153638</td>\n",
       "      <td>0.498616</td>\n",
       "      <td>30724</td>\n",
       "      <td>195.467062</td>\n",
       "      <td>0.782681</td>\n",
       "      <td>0.976696</td>\n",
       "      <td>0.903936</td>\n",
       "      <td>0.928329</td>\n",
       "      <td>0.007017</td>\n",
       "      <td>0.003215</td>\n",
       "      <td>0.861794</td>\n",
       "      <td>0.994199</td>\n",
       "      <td>SEKER</td>\n",
       "    </tr>\n",
       "    <tr>\n",
       "      <th>1253</th>\n",
       "      <td>30012</td>\n",
       "      <td>634.168</td>\n",
       "      <td>229.164660</td>\n",
       "      <td>167.000164</td>\n",
       "      <td>1.372242</td>\n",
       "      <td>0.684796</td>\n",
       "      <td>30308</td>\n",
       "      <td>195.480089</td>\n",
       "      <td>0.765456</td>\n",
       "      <td>0.990234</td>\n",
       "      <td>0.937770</td>\n",
       "      <td>0.853011</td>\n",
       "      <td>0.007636</td>\n",
       "      <td>0.002494</td>\n",
       "      <td>0.727629</td>\n",
       "      <td>0.998483</td>\n",
       "      <td>DERMASON</td>\n",
       "    </tr>\n",
       "    <tr>\n",
       "      <th>1254</th>\n",
       "      <td>30015</td>\n",
       "      <td>641.881</td>\n",
       "      <td>236.166003</td>\n",
       "      <td>162.117145</td>\n",
       "      <td>1.456761</td>\n",
       "      <td>0.727173</td>\n",
       "      <td>30321</td>\n",
       "      <td>195.489859</td>\n",
       "      <td>0.789952</td>\n",
       "      <td>0.989908</td>\n",
       "      <td>0.915460</td>\n",
       "      <td>0.827765</td>\n",
       "      <td>0.007868</td>\n",
       "      <td>0.002279</td>\n",
       "      <td>0.685194</td>\n",
       "      <td>0.998165</td>\n",
       "      <td>DERMASON</td>\n",
       "    </tr>\n",
       "    <tr>\n",
       "      <th>1255</th>\n",
       "      <td>30017</td>\n",
       "      <td>634.725</td>\n",
       "      <td>231.420302</td>\n",
       "      <td>165.469441</td>\n",
       "      <td>1.398568</td>\n",
       "      <td>0.699107</td>\n",
       "      <td>30345</td>\n",
       "      <td>195.496372</td>\n",
       "      <td>0.728285</td>\n",
       "      <td>0.989191</td>\n",
       "      <td>0.936280</td>\n",
       "      <td>0.844768</td>\n",
       "      <td>0.007710</td>\n",
       "      <td>0.002422</td>\n",
       "      <td>0.713632</td>\n",
       "      <td>0.998063</td>\n",
       "      <td>DERMASON</td>\n",
       "    </tr>\n",
       "    <tr>\n",
       "      <th>...</th>\n",
       "      <td>...</td>\n",
       "      <td>...</td>\n",
       "      <td>...</td>\n",
       "      <td>...</td>\n",
       "      <td>...</td>\n",
       "      <td>...</td>\n",
       "      <td>...</td>\n",
       "      <td>...</td>\n",
       "      <td>...</td>\n",
       "      <td>...</td>\n",
       "      <td>...</td>\n",
       "      <td>...</td>\n",
       "      <td>...</td>\n",
       "      <td>...</td>\n",
       "      <td>...</td>\n",
       "      <td>...</td>\n",
       "      <td>...</td>\n",
       "    </tr>\n",
       "    <tr>\n",
       "      <th>13606</th>\n",
       "      <td>237270</td>\n",
       "      <td>1921.685</td>\n",
       "      <td>738.144502</td>\n",
       "      <td>412.921647</td>\n",
       "      <td>1.787614</td>\n",
       "      <td>0.828895</td>\n",
       "      <td>240671</td>\n",
       "      <td>549.637650</td>\n",
       "      <td>0.784115</td>\n",
       "      <td>0.985869</td>\n",
       "      <td>0.807399</td>\n",
       "      <td>0.744621</td>\n",
       "      <td>0.003111</td>\n",
       "      <td>0.000590</td>\n",
       "      <td>0.554460</td>\n",
       "      <td>0.991160</td>\n",
       "      <td>BOMBAY</td>\n",
       "    </tr>\n",
       "    <tr>\n",
       "      <th>13607</th>\n",
       "      <td>241322</td>\n",
       "      <td>1895.940</td>\n",
       "      <td>726.373493</td>\n",
       "      <td>427.370120</td>\n",
       "      <td>1.699636</td>\n",
       "      <td>0.808598</td>\n",
       "      <td>244319</td>\n",
       "      <td>554.311026</td>\n",
       "      <td>0.820823</td>\n",
       "      <td>0.987733</td>\n",
       "      <td>0.843641</td>\n",
       "      <td>0.763121</td>\n",
       "      <td>0.003010</td>\n",
       "      <td>0.000630</td>\n",
       "      <td>0.582354</td>\n",
       "      <td>0.989790</td>\n",
       "      <td>BOMBAY</td>\n",
       "    </tr>\n",
       "    <tr>\n",
       "      <th>13608</th>\n",
       "      <td>248424</td>\n",
       "      <td>1884.557</td>\n",
       "      <td>715.053040</td>\n",
       "      <td>446.043618</td>\n",
       "      <td>1.603101</td>\n",
       "      <td>0.781591</td>\n",
       "      <td>251082</td>\n",
       "      <td>562.408446</td>\n",
       "      <td>0.807536</td>\n",
       "      <td>0.989414</td>\n",
       "      <td>0.878992</td>\n",
       "      <td>0.786527</td>\n",
       "      <td>0.002878</td>\n",
       "      <td>0.000679</td>\n",
       "      <td>0.618625</td>\n",
       "      <td>0.991718</td>\n",
       "      <td>BOMBAY</td>\n",
       "    </tr>\n",
       "    <tr>\n",
       "      <th>13609</th>\n",
       "      <td>251432</td>\n",
       "      <td>1919.868</td>\n",
       "      <td>719.125690</td>\n",
       "      <td>450.926187</td>\n",
       "      <td>1.594775</td>\n",
       "      <td>0.778981</td>\n",
       "      <td>257425</td>\n",
       "      <td>565.803115</td>\n",
       "      <td>0.766776</td>\n",
       "      <td>0.976719</td>\n",
       "      <td>0.857211</td>\n",
       "      <td>0.786793</td>\n",
       "      <td>0.002860</td>\n",
       "      <td>0.000676</td>\n",
       "      <td>0.619043</td>\n",
       "      <td>0.987235</td>\n",
       "      <td>BOMBAY</td>\n",
       "    </tr>\n",
       "    <tr>\n",
       "      <th>13610</th>\n",
       "      <td>254616</td>\n",
       "      <td>1985.370</td>\n",
       "      <td>738.860154</td>\n",
       "      <td>447.418329</td>\n",
       "      <td>1.651386</td>\n",
       "      <td>0.795806</td>\n",
       "      <td>263261</td>\n",
       "      <td>569.374358</td>\n",
       "      <td>0.783747</td>\n",
       "      <td>0.967162</td>\n",
       "      <td>0.811732</td>\n",
       "      <td>0.770612</td>\n",
       "      <td>0.002902</td>\n",
       "      <td>0.000631</td>\n",
       "      <td>0.593843</td>\n",
       "      <td>0.980663</td>\n",
       "      <td>BOMBAY</td>\n",
       "    </tr>\n",
       "  </tbody>\n",
       "</table>\n",
       "<p>12360 rows × 17 columns</p>\n",
       "</div>"
      ],
      "text/plain": [
       "         Area  Perimeter  MajorAxisLength  MinorAxisLength  AspectRation  \\\n",
       "1251    30006    652.956       238.613862       160.431713      1.487324   \n",
       "1252    30008    645.884       210.557999       182.516516      1.153638   \n",
       "1253    30012    634.168       229.164660       167.000164      1.372242   \n",
       "1254    30015    641.881       236.166003       162.117145      1.456761   \n",
       "1255    30017    634.725       231.420302       165.469441      1.398568   \n",
       "...       ...        ...              ...              ...           ...   \n",
       "13606  237270   1921.685       738.144502       412.921647      1.787614   \n",
       "13607  241322   1895.940       726.373493       427.370120      1.699636   \n",
       "13608  248424   1884.557       715.053040       446.043618      1.603101   \n",
       "13609  251432   1919.868       719.125690       450.926187      1.594775   \n",
       "13610  254616   1985.370       738.860154       447.418329      1.651386   \n",
       "\n",
       "       Eccentricity  ConvexArea  EquivDiameter    Extent  Solidity  roundness  \\\n",
       "1251       0.740235       30456     195.460548  0.729913  0.985225   0.884403   \n",
       "1252       0.498616       30724     195.467062  0.782681  0.976696   0.903936   \n",
       "1253       0.684796       30308     195.480089  0.765456  0.990234   0.937770   \n",
       "1254       0.727173       30321     195.489859  0.789952  0.989908   0.915460   \n",
       "1255       0.699107       30345     195.496372  0.728285  0.989191   0.936280   \n",
       "...             ...         ...            ...       ...       ...        ...   \n",
       "13606      0.828895      240671     549.637650  0.784115  0.985869   0.807399   \n",
       "13607      0.808598      244319     554.311026  0.820823  0.987733   0.843641   \n",
       "13608      0.781591      251082     562.408446  0.807536  0.989414   0.878992   \n",
       "13609      0.778981      257425     565.803115  0.766776  0.976719   0.857211   \n",
       "13610      0.795806      263261     569.374358  0.783747  0.967162   0.811732   \n",
       "\n",
       "       Compactness  ShapeFactor1  ShapeFactor2  ShapeFactor3  ShapeFactor4  \\\n",
       "1251      0.819150      0.007952      0.002209      0.671007      0.998004   \n",
       "1252      0.928329      0.007017      0.003215      0.861794      0.994199   \n",
       "1253      0.853011      0.007636      0.002494      0.727629      0.998483   \n",
       "1254      0.827765      0.007868      0.002279      0.685194      0.998165   \n",
       "1255      0.844768      0.007710      0.002422      0.713632      0.998063   \n",
       "...            ...           ...           ...           ...           ...   \n",
       "13606     0.744621      0.003111      0.000590      0.554460      0.991160   \n",
       "13607     0.763121      0.003010      0.000630      0.582354      0.989790   \n",
       "13608     0.786527      0.002878      0.000679      0.618625      0.991718   \n",
       "13609     0.786793      0.002860      0.000676      0.619043      0.987235   \n",
       "13610     0.770612      0.002902      0.000631      0.593843      0.980663   \n",
       "\n",
       "          Class  \n",
       "1251   DERMASON  \n",
       "1252      SEKER  \n",
       "1253   DERMASON  \n",
       "1254   DERMASON  \n",
       "1255   DERMASON  \n",
       "...         ...  \n",
       "13606    BOMBAY  \n",
       "13607    BOMBAY  \n",
       "13608    BOMBAY  \n",
       "13609    BOMBAY  \n",
       "13610    BOMBAY  \n",
       "\n",
       "[12360 rows x 17 columns]"
      ]
     },
     "execution_count": 14,
     "metadata": {},
     "output_type": "execute_result"
    }
   ],
   "source": [
    "# 퀴즈 2: 특정 데이터 선택하기\n",
    "# 면적이 30000 픽셀보다 큰 콩에 관심이 있다고 가정합니다\n",
    "df.loc[df['Area'] >= 30000]"
   ]
  },
  {
   "cell_type": "code",
   "execution_count": 15,
   "metadata": {},
   "outputs": [
    {
     "name": "stdout",
     "output_type": "stream",
     "text": [
      "    Area  Perimeter  MajorAxisLength  MinorAxisLength  AspectRation  \\\n",
      "0  20420    524.932       183.601165       141.886215      1.294003   \n",
      "1  20464    528.408       191.249312       136.368462      1.402445   \n",
      "2  20548    524.736       183.965251       142.672388      1.289424   \n",
      "3  20711    525.413       186.079149       142.081680      1.309663   \n",
      "4  20786    534.717       200.927241       132.143553      1.520522   \n",
      "\n",
      "   Eccentricity  ConvexArea  EquivDiameter    Extent  Solidity  roundness  \\\n",
      "0      0.634655       20684     161.243764  0.790187  0.987237   0.931235   \n",
      "1      0.701123       20772     161.417391  0.747407  0.985172   0.921004   \n",
      "2      0.631299       20825     161.748342  0.759686  0.986699   0.937773   \n",
      "3      0.645743       20988     162.388621  0.793525  0.986802   0.942778   \n",
      "4      0.753307       21057     162.682381  0.789412  0.987130   0.913551   \n",
      "\n",
      "   Compactness  ShapeFactor1  ShapeFactor2  ShapeFactor3  ShapeFactor4  \\\n",
      "0     0.878228      0.008991      0.003299   -999.000000      0.998045   \n",
      "1     0.844016      0.009346      0.002925      0.712362      0.999049   \n",
      "2     0.879233      0.008953      0.003300      0.773051      0.996791   \n",
      "3     0.872686      0.008985      0.003214      0.761580      0.997414   \n",
      "4     0.809658      0.009666      0.002562      0.655546      0.996773   \n",
      "\n",
      "      Class  \n",
      "0  DERMASON  \n",
      "1  DERMASON  \n",
      "2  DERMASON  \n",
      "3  DERMASON  \n",
      "4  DERMASON  \n"
     ]
    }
   ],
   "source": [
    "print(df.head()) # 다시 오리지널 데이터프레임의 첫 5개 행 출력해보세요."
   ]
  },
  {
   "cell_type": "code",
   "execution_count": 25,
   "metadata": {},
   "outputs": [
    {
     "ename": "KeyError",
     "evalue": "['ShapeFactory3']",
     "output_type": "error",
     "traceback": [
      "\u001b[1;31m---------------------------------------------------------------------------\u001b[0m",
      "\u001b[1;31mKeyError\u001b[0m                                  Traceback (most recent call last)",
      "Cell \u001b[1;32mIn[25], line 8\u001b[0m\n\u001b[0;32m      1\u001b[0m \u001b[38;5;66;03m# 퀴즈 3: 데이터 정리하기\u001b[39;00m\n\u001b[0;32m      2\u001b[0m \u001b[38;5;66;03m# 'ShapeFactor3'에 몇 가지 잘못된 값이 있다고 가정합니다\u001b[39;00m\n\u001b[0;32m      3\u001b[0m \u001b[38;5;66;03m# 예를 들어, -999가 들어가 있다고 가정합니다.\u001b[39;00m\n\u001b[0;32m      4\u001b[0m \u001b[38;5;66;03m# 이런 잘못된 값들을 찾아서, 이를 NaN으로 바꾸세요.\u001b[39;00m\n\u001b[0;32m      5\u001b[0m \u001b[38;5;66;03m# 그리고 NaN이 있는 행을 제거하세요.\u001b[39;00m\n\u001b[0;32m      6\u001b[0m \u001b[38;5;66;03m# 실습을 위해서 편의상 맨 처음 행의 ShapeFactor3를 -999로 바꿨습니다.\u001b[39;00m\n\u001b[0;32m      7\u001b[0m df[\u001b[38;5;124m'\u001b[39m\u001b[38;5;124mShapeFactor3\u001b[39m\u001b[38;5;124m'\u001b[39m]\u001b[38;5;241m.\u001b[39mreplace(\u001b[38;5;241m-\u001b[39m\u001b[38;5;241m999\u001b[39m, np\u001b[38;5;241m.\u001b[39mnan, inplace\u001b[38;5;241m=\u001b[39m\u001b[38;5;28;01mTrue\u001b[39;00m)\n\u001b[1;32m----> 8\u001b[0m \u001b[43mdf\u001b[49m\u001b[38;5;241;43m.\u001b[39;49m\u001b[43mdropna\u001b[49m\u001b[43m(\u001b[49m\u001b[43msubset\u001b[49m\u001b[38;5;241;43m=\u001b[39;49m\u001b[43m[\u001b[49m\u001b[38;5;124;43m'\u001b[39;49m\u001b[38;5;124;43mShapeFactory3\u001b[39;49m\u001b[38;5;124;43m'\u001b[39;49m\u001b[43m]\u001b[49m\u001b[43m,\u001b[49m\u001b[43m \u001b[49m\u001b[43minplace\u001b[49m\u001b[38;5;241;43m=\u001b[39;49m\u001b[38;5;28;43;01mTrue\u001b[39;49;00m\u001b[43m)\u001b[49m\n\u001b[0;32m      9\u001b[0m \u001b[38;5;28mprint\u001b[39m(df\u001b[38;5;241m.\u001b[39mhead())\n",
      "File \u001b[1;32mc:\\Users\\USER\\AppData\\Local\\Programs\\Python\\Python312\\Lib\\site-packages\\pandas\\core\\frame.py:6670\u001b[0m, in \u001b[0;36mDataFrame.dropna\u001b[1;34m(self, axis, how, thresh, subset, inplace, ignore_index)\u001b[0m\n\u001b[0;32m   6668\u001b[0m     check \u001b[38;5;241m=\u001b[39m indices \u001b[38;5;241m==\u001b[39m \u001b[38;5;241m-\u001b[39m\u001b[38;5;241m1\u001b[39m\n\u001b[0;32m   6669\u001b[0m     \u001b[38;5;28;01mif\u001b[39;00m check\u001b[38;5;241m.\u001b[39many():\n\u001b[1;32m-> 6670\u001b[0m         \u001b[38;5;28;01mraise\u001b[39;00m \u001b[38;5;167;01mKeyError\u001b[39;00m(np\u001b[38;5;241m.\u001b[39marray(subset)[check]\u001b[38;5;241m.\u001b[39mtolist())\n\u001b[0;32m   6671\u001b[0m     agg_obj \u001b[38;5;241m=\u001b[39m \u001b[38;5;28mself\u001b[39m\u001b[38;5;241m.\u001b[39mtake(indices, axis\u001b[38;5;241m=\u001b[39magg_axis)\n\u001b[0;32m   6673\u001b[0m \u001b[38;5;28;01mif\u001b[39;00m thresh \u001b[38;5;129;01mis\u001b[39;00m \u001b[38;5;129;01mnot\u001b[39;00m lib\u001b[38;5;241m.\u001b[39mno_default:\n",
      "\u001b[1;31mKeyError\u001b[0m: ['ShapeFactory3']"
     ]
    }
   ],
   "source": [
    "# 퀴즈 3: 데이터 정리하기\n",
    "# 'ShapeFactor3'에 몇 가지 잘못된 값이 있다고 가정합니다\n",
    "# 예를 들어, -999가 들어가 있다고 가정합니다.\n",
    "# 이런 잘못된 값들을 찾아서, 이를 NaN으로 바꾸세요.\n",
    "# 그리고 NaN이 있는 행을 제거하세요.\n",
    "# 실습을 위해서 편의상 맨 처음 행의 ShapeFactor3를 -999로 바꿨습니다.\n",
    "df['ShapeFactor3'].replace(-999, np.nan, inplace=True)\n",
    "df.dropna(subset=['ShapeFactory3'], inplace=True)\n",
    "print(df.head())"
   ]
  },
  {
   "cell_type": "code",
   "execution_count": 26,
   "metadata": {},
   "outputs": [
    {
     "name": "stdout",
     "output_type": "stream",
     "text": [
      "    Area  Perimeter  MajorAxisLength  MinorAxisLength  AspectRation  \\\n",
      "1  20464    528.408       191.249312       136.368462      1.402445   \n",
      "2  20548    524.736       183.965251       142.672388      1.289424   \n",
      "3  20711    525.413       186.079149       142.081680      1.309663   \n",
      "4  20786    534.717       200.927241       132.143553      1.520522   \n",
      "5  20942    530.683       191.176525       139.586402      1.369593   \n",
      "\n",
      "   Eccentricity  ConvexArea  EquivDiameter    Extent  Solidity  roundness  \\\n",
      "1      0.701123       20772     161.417391  0.747407  0.985172   0.921004   \n",
      "2      0.631299       20825     161.748342  0.759686  0.986699   0.937773   \n",
      "3      0.645743       20988     162.388621  0.793525  0.986802   0.942778   \n",
      "4      0.753307       21057     162.682381  0.789412  0.987130   0.913551   \n",
      "5      0.683293       21191     163.291710  0.742361  0.988250   0.934453   \n",
      "\n",
      "   Compactness  ShapeFactor1  ShapeFactor2  ShapeFactor3  ShapeFactor4  \\\n",
      "1     0.844016      0.009346      0.002925      0.712362      0.999049   \n",
      "2     0.879233      0.008953      0.003300      0.773051      0.996791   \n",
      "3     0.872686      0.008985      0.003214      0.761580      0.997414   \n",
      "4     0.809658      0.009666      0.002562      0.655546      0.996773   \n",
      "5     0.854141      0.009129      0.002997      0.729557      0.999196   \n",
      "\n",
      "      Class  \n",
      "1  DERMASON  \n",
      "2  DERMASON  \n",
      "3  DERMASON  \n",
      "4  DERMASON  \n",
      "5  DERMASON  \n"
     ]
    }
   ],
   "source": [
    "# 퀴즈 3: 데이터 정리하기\n",
    "# 'ShapeFactor3'에 몇 가지 잘못된 값이 있다고 가정합니다\n",
    "# 예를 들어, -999가 들어가 있다고 가정합니다.\n",
    "# 이런 잘못된 값들을 찾아서, 이를 NaN으로 바꾸세요.\n",
    "# 그리고 NaN이 있는 행을 제거하세요.\n",
    "# 실습을 위해서 편의상 맨 처음 행의 ShapeFactor3를 -999로 바꿨습니다.\n",
    "\n",
    "# 잘못된 값 -999를 NaN으로 바꾸기\n",
    "df['ShapeFactor3'].replace(-999, np.nan, inplace=True)\n",
    "\n",
    "# NaN이 있는 행 제거\n",
    "df.dropna(subset=['ShapeFactor3'], inplace=True)\n",
    "\n",
    "print(df.head())  # 정리된 데이터의 첫 5행을 보여줍니다"
   ]
  },
  {
   "cell_type": "code",
   "execution_count": 17,
   "metadata": {},
   "outputs": [
    {
     "name": "stdout",
     "output_type": "stream",
     "text": [
      "    Area  Perimeter  MajorAxisLength  MinorAxisLength  AspectRation  \\\n",
      "0  20420    524.932       183.601165       141.886215      1.294003   \n",
      "1  20464    528.408       191.249312       136.368462      1.402445   \n",
      "2  20548    524.736       183.965251       142.672388      1.289424   \n",
      "3  20711    525.413       186.079149       142.081680      1.309663   \n",
      "4  20786    534.717       200.927241       132.143553      1.520522   \n",
      "\n",
      "   Eccentricity  ConvexArea  EquivDiameter    Extent  Solidity  roundness  \\\n",
      "0      0.634655       20684     161.243764  0.790187  0.987237   0.931235   \n",
      "1      0.701123       20772     161.417391  0.747407  0.985172   0.921004   \n",
      "2      0.631299       20825     161.748342  0.759686  0.986699   0.937773   \n",
      "3      0.645743       20988     162.388621  0.793525  0.986802   0.942778   \n",
      "4      0.753307       21057     162.682381  0.789412  0.987130   0.913551   \n",
      "\n",
      "   Compactness  ShapeFactor1  ShapeFactor2  ShapeFactor3  ShapeFactor4  \\\n",
      "0     0.878228      0.008991      0.003299   -999.000000      0.998045   \n",
      "1     0.844016      0.009346      0.002925      0.712362      0.999049   \n",
      "2     0.879233      0.008953      0.003300      0.773051      0.996791   \n",
      "3     0.872686      0.008985      0.003214      0.761580      0.997414   \n",
      "4     0.809658      0.009666      0.002562      0.655546      0.996773   \n",
      "\n",
      "      Class  \n",
      "0  DERMASON  \n",
      "1  DERMASON  \n",
      "2  DERMASON  \n",
      "3  DERMASON  \n",
      "4  DERMASON  \n"
     ]
    }
   ],
   "source": [
    "# 정리된 데이터의 첫 5행을 보여줍니다\n",
    "print(df.head())"
   ]
  },
  {
   "cell_type": "code",
   "execution_count": 28,
   "metadata": {},
   "outputs": [],
   "source": [
    "# 퀴즈 4: 계산된 열 만들기\n",
    "# 'ShapeFactor1'과 'ShapeFactor2'의 곱으로 'ShapeFactor5'라는 새로운 특성을 만듭니다\n",
    "df['ShapeFactor5'] = df['ShapeFactor1'] * df['ShapeFactor2']"
   ]
  },
  {
   "cell_type": "code",
   "execution_count": 29,
   "metadata": {},
   "outputs": [
    {
     "name": "stdout",
     "output_type": "stream",
     "text": [
      "    Area  Perimeter  MajorAxisLength  MinorAxisLength  AspectRation  \\\n",
      "1  20464    528.408       191.249312       136.368462      1.402445   \n",
      "2  20548    524.736       183.965251       142.672388      1.289424   \n",
      "3  20711    525.413       186.079149       142.081680      1.309663   \n",
      "4  20786    534.717       200.927241       132.143553      1.520522   \n",
      "5  20942    530.683       191.176525       139.586402      1.369593   \n",
      "\n",
      "   Eccentricity  ConvexArea  EquivDiameter    Extent  Solidity  roundness  \\\n",
      "1      0.701123       20772     161.417391  0.747407  0.985172   0.921004   \n",
      "2      0.631299       20825     161.748342  0.759686  0.986699   0.937773   \n",
      "3      0.645743       20988     162.388621  0.793525  0.986802   0.942778   \n",
      "4      0.753307       21057     162.682381  0.789412  0.987130   0.913551   \n",
      "5      0.683293       21191     163.291710  0.742361  0.988250   0.934453   \n",
      "\n",
      "   Compactness  ShapeFactor1  ShapeFactor2  ShapeFactor3  ShapeFactor4  \\\n",
      "1     0.844016      0.009346      0.002925      0.712362      0.999049   \n",
      "2     0.879233      0.008953      0.003300      0.773051      0.996791   \n",
      "3     0.872686      0.008985      0.003214      0.761580      0.997414   \n",
      "4     0.809658      0.009666      0.002562      0.655546      0.996773   \n",
      "5     0.854141      0.009129      0.002997      0.729557      0.999196   \n",
      "\n",
      "      Class  ShapeFactor5  \n",
      "1  DERMASON      0.000027  \n",
      "2  DERMASON      0.000030  \n",
      "3  DERMASON      0.000029  \n",
      "4  DERMASON      0.000025  \n",
      "5  DERMASON      0.000027  \n"
     ]
    }
   ],
   "source": [
    "print(df.head())"
   ]
  },
  {
   "cell_type": "code",
   "execution_count": 33,
   "metadata": {},
   "outputs": [
    {
     "data": {
      "text/plain": [
       "Class\n",
       "BARBUNYA     69804.133132\n",
       "BOMBAY      173485.059387\n",
       "CALI         75538.211043\n",
       "DERMASON     32122.011001\n",
       "HOROZ        53648.508817\n",
       "SEKER        39881.299951\n",
       "SIRA         44729.128604\n",
       "Name: Area, dtype: float64"
      ]
     },
     "execution_count": 33,
     "metadata": {},
     "output_type": "execute_result"
    }
   ],
   "source": [
    "# 퀴즈 5: 데이터 그룹화 및 집계하기\n",
    "# 'Class'별로 그룹화하고 평균 'Area'를 계산합니다\n",
    "df.groupby('Class')['Area'].mean()"
   ]
  },
  {
   "cell_type": "code",
   "execution_count": 37,
   "metadata": {},
   "outputs": [
    {
     "name": "stdout",
     "output_type": "stream",
     "text": [
      "         Area  Perimeter  MajorAxisLength  MinorAxisLength  AspectRation  \\\n",
      "13610  254616   1985.370       738.860154       447.418329      1.651386   \n",
      "13609  251432   1919.868       719.125690       450.926187      1.594775   \n",
      "13608  248424   1884.557       715.053040       446.043618      1.603101   \n",
      "13607  241322   1895.940       726.373493       427.370120      1.699636   \n",
      "13606  237270   1921.685       738.144502       412.921647      1.787614   \n",
      "\n",
      "       Eccentricity  ConvexArea  EquivDiameter    Extent  Solidity  roundness  \\\n",
      "13610      0.795806      263261     569.374358  0.783747  0.967162   0.811732   \n",
      "13609      0.778981      257425     565.803115  0.766776  0.976719   0.857211   \n",
      "13608      0.781591      251082     562.408446  0.807536  0.989414   0.878992   \n",
      "13607      0.808598      244319     554.311026  0.820823  0.987733   0.843641   \n",
      "13606      0.828895      240671     549.637650  0.784115  0.985869   0.807399   \n",
      "\n",
      "       Compactness  ShapeFactor1  ShapeFactor2  ShapeFactor3  ShapeFactor4  \\\n",
      "13610     0.770612      0.002902      0.000631      0.593843      0.980663   \n",
      "13609     0.786793      0.002860      0.000676      0.619043      0.987235   \n",
      "13608     0.786527      0.002878      0.000679      0.618625      0.991718   \n",
      "13607     0.763121      0.003010      0.000630      0.582354      0.989790   \n",
      "13606     0.744621      0.003111      0.000590      0.554460      0.991160   \n",
      "\n",
      "        Class  ShapeFactor5  \n",
      "13610  BOMBAY      0.000002  \n",
      "13609  BOMBAY      0.000002  \n",
      "13608  BOMBAY      0.000002  \n",
      "13607  BOMBAY      0.000002  \n",
      "13606  BOMBAY      0.000002  \n"
     ]
    }
   ],
   "source": [
    "# 퀴즈 6: 데이터 정렬 및 순위 매기기\n",
    "# 'EquivDiameter'를 기준으로 내림차순으로 정렬합니다\n",
    "df_sorted_desc = df.sort_values(by = 'EquivDiameter', ascending= False)\n",
    "print(df_sorted_desc.head())"
   ]
  },
  {
   "cell_type": "code",
   "execution_count": 54,
   "metadata": {},
   "outputs": [
    {
     "name": "stdout",
     "output_type": "stream",
     "text": [
      "Requirement already satisfied: matplotlib in c:\\users\\user\\appdata\\local\\programs\\python\\python312\\lib\\site-packages (3.9.0)\n",
      "Requirement already satisfied: contourpy>=1.0.1 in c:\\users\\user\\appdata\\local\\programs\\python\\python312\\lib\\site-packages (from matplotlib) (1.2.1)\n",
      "Requirement already satisfied: cycler>=0.10 in c:\\users\\user\\appdata\\local\\programs\\python\\python312\\lib\\site-packages (from matplotlib) (0.12.1)\n",
      "Requirement already satisfied: fonttools>=4.22.0 in c:\\users\\user\\appdata\\local\\programs\\python\\python312\\lib\\site-packages (from matplotlib) (4.53.0)\n",
      "Requirement already satisfied: kiwisolver>=1.3.1 in c:\\users\\user\\appdata\\local\\programs\\python\\python312\\lib\\site-packages (from matplotlib) (1.4.5)\n",
      "Requirement already satisfied: numpy>=1.23 in c:\\users\\user\\appdata\\local\\programs\\python\\python312\\lib\\site-packages (from matplotlib) (2.0.0)\n",
      "Requirement already satisfied: packaging>=20.0 in c:\\users\\user\\appdata\\roaming\\python\\python312\\site-packages (from matplotlib) (24.1)\n",
      "Requirement already satisfied: pillow>=8 in c:\\users\\user\\appdata\\local\\programs\\python\\python312\\lib\\site-packages (from matplotlib) (10.3.0)\n",
      "Requirement already satisfied: pyparsing>=2.3.1 in c:\\users\\user\\appdata\\local\\programs\\python\\python312\\lib\\site-packages (from matplotlib) (3.1.2)\n",
      "Requirement already satisfied: python-dateutil>=2.7 in c:\\users\\user\\appdata\\roaming\\python\\python312\\site-packages (from matplotlib) (2.9.0.post0)\n",
      "Requirement already satisfied: six>=1.5 in c:\\users\\user\\appdata\\roaming\\python\\python312\\site-packages (from python-dateutil>=2.7->matplotlib) (1.16.0)\n"
     ]
    },
    {
     "data": {
      "text/plain": [
       "array([297.31101754, 468.94142629, 309.53528029, 201.69522067,\n",
       "       260.73071456, 224.94844088, 238.3353158 ])"
      ]
     },
     "execution_count": 54,
     "metadata": {},
     "output_type": "execute_result"
    }
   ],
   "source": [
    "# 퀴즈 7: 데이터 시각화하기\n",
    "!pip install matplotlib\n",
    "import matplotlib.pyplot as plt\n"
   ]
  },
  {
   "cell_type": "code",
   "execution_count": 59,
   "metadata": {},
   "outputs": [
    {
     "data": {
      "image/png": "[encoded data removed]",
      "text/plain": [
       "<Figure size 640x480 with 1 Axes>"
      ]
     },
     "metadata": {},
     "output_type": "display_data"
    }
   ],
   "source": [
    "# 각 'Class'의 평균 'EquivDiameter'에 대한 막대 그래프를 그립니다\n",
    "classes = df['Class'].unique()\n",
    "equivDiameters = df.groupby('Class')['EquivDiameter'].mean()\n",
    "x = range(len(classes))  # x축에 사용할 인덱스 생성\n",
    "\n",
    "plt.bar(x, equivDiameters)  # 막대 그래프 그리기\n",
    "plt.xticks(x, classes)  # x축 레이블 설정\n",
    "plt.show()"
   ]
  },
  {
   "cell_type": "code",
   "execution_count": 72,
   "metadata": {},
   "outputs": [
    {
     "name": "stdout",
     "output_type": "stream",
     "text": [
      "      Class Class_First_Letter\n",
      "1  DERMASON                  D\n",
      "2  DERMASON                  D\n",
      "3  DERMASON                  D\n",
      "4  DERMASON                  D\n",
      "5  DERMASON                  D\n"
     ]
    }
   ],
   "source": [
    "# 퀴즈 8: 문자열 조작하기\n",
    "# 'Class'가 문자열이고 첫 글자를 추출하고 싶다고 가정합니다\n",
    "df['Class_First_Letter'] = df['Class'].str[0]"
   ]
  },
  {
   "cell_type": "code",
   "execution_count": 81,
   "metadata": {},
   "outputs": [
    {
     "name": "stdout",
     "output_type": "stream",
     "text": [
      "      Class Class_First_Letter\n",
      "1  DERMASON                  D\n",
      "2  DERMASON                  D\n",
      "3  DERMASON                  D\n",
      "4  DERMASON                  D\n",
      "5  DERMASON                  D\n"
     ]
    }
   ],
   "source": [
    "print(df[['Class','Class_First_Letter']].head())"
   ]
  },
  {
   "cell_type": "code",
   "execution_count": 82,
   "metadata": {},
   "outputs": [
    {
     "name": "stdout",
     "output_type": "stream",
     "text": [
      "      Class  AspectRation  CorrelationWithDiameter\n",
      "5     SEKER      1.245182                 0.425836\n",
      "1    BOMBAY      1.585550                 0.409292\n",
      "6      SIRA      1.570083                 0.391825\n",
      "2      CALI      1.733663                 0.203589\n",
      "4     HOROZ      2.026119                 0.168580\n",
      "3  DERMASON      1.490526                 0.131777\n",
      "0  BARBUNYA      1.544395                 0.074018\n"
     ]
    }
   ],
   "source": [
    "# 퀴즈 9: 'Area'와 'Perimeter'가 Dry Beans Dataset의 열이라고 가정합니다\n",
    "# 각 'Class'에 대한 평균 'AspectRation'을 계산합니다\n",
    "df_aspect_ratio = df.groupby('Class')['AspectRation'].mean().reset_index() # 'Class'별로 그룹화하고 'AspectRation'의 평균을 계산합니다\n",
    "# 상관 관계 값을 저장할 빈 리스트를 초기화합니다\n",
    "correlation_values = [] # 상관 관계 값을 저장할 빈 리스트를 초기화합니다\n",
    "# 각 'Class'에 대한 상관 관계를 계산합니다\n",
    "for bean_class in df_aspect_ratio['Class']:\n",
    "    class_df = df[df['Class'] == bean_class]\n",
    "    correlation = class_df['AspectRation'].corr(class_df['EquivDiameter'])\n",
    "    correlation_values.append(correlation)\n",
    "# 상관 관계 값을 'df_aspect_ratio' 데이터프레임에 추가합니다\n",
    "df_aspect_ratio['CorrelationWithDiameter'] = correlation_values # 상관 관계 값을 'df_aspect_ratio' 데이터프레임에 추가합니다\n",
    "# 'CorrelationWithDiameter'로 데이터프레임을 정렬합니다\n",
    "df_aspect_ratio_sorted = df_aspect_ratio.sort_values(by='CorrelationWithDiameter', ascending=False)\n",
    "print(df_aspect_ratio_sorted) # 정렬된 데이터프레임을 출력합니다\n"
   ]
  }
 ],
 "metadata": {
  "kernelspec": {
   "display_name": "Python 3",
   "language": "python",
   "name": "python3"
  },
  "language_info": {
   "codemirror_mode": {
    "name": "ipython",
    "version": 3
   },
   "file_extension": ".py",
   "mimetype": "text/x-python",
   "name": "python",
   "nbconvert_exporter": "python",
   "pygments_lexer": "ipython3",
   "version": "3.12.4"
  }
 },
 "nbformat": 4,
 "nbformat_minor": 2
}
