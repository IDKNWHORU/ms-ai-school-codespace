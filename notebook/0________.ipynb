{
  "cells": [
    {
      "cell_type": "code",
      "execution_count": null,
      "metadata": {
        "id": "H-FX5bBb6cG9"
      },
      "outputs": [],
      "source": [
        "# 미션: 숫자 리스트의 모든 요소를 제곱한 후 새로운 리스트로 반환하기"
      ]
    },
    {
      "cell_type": "code",
      "execution_count": 7,
      "metadata": {
        "id": "8FABTWPE65LD"
      },
      "outputs": [
        {
          "name": "stdout",
          "output_type": "stream",
          "text": [
            "[1, 4, 9, 16, 25]\n"
          ]
        }
      ],
      "source": [
        "numbers = [1, 2, 3, 4, 5]\n",
        "squared_numbers =  [x**2 for x in numbers]# TODO: YOUR CODE HERE\n",
        "print(squared_numbers)"
      ]
    },
    {
      "cell_type": "code",
      "execution_count": null,
      "metadata": {
        "id": "1iM_f0bg65Uk"
      },
      "outputs": [],
      "source": [
        "# 미션: 학생들의 이름과 점수가 있는 딕셔너리에서, 점수가 70점 이상인 학생들만 출력"
      ]
    },
    {
      "cell_type": "code",
      "execution_count": 11,
      "metadata": {
        "id": "RYnHlxx47G8c"
      },
      "outputs": [
        {
          "name": "stdout",
          "output_type": "stream",
          "text": [
            "{'Alice': 85, 'Charlie': 72, 'David': 90}\n"
          ]
        }
      ],
      "source": [
        "students = {'Alice': 85, 'Bob': 67, 'Charlie': 72, 'David': 90}\n",
        "passed_students = dict((k,v) for k, v in students.items() if v >=70)# TODO: YOUR CODE HERE\n",
        "print(passed_students)"
      ]
    },
    {
      "cell_type": "code",
      "execution_count": null,
      "metadata": {
        "id": "0pfxmUda7L1N"
      },
      "outputs": [],
      "source": [
        "# 미션: 두 숫자의 합을 계산하는 함수를 작성"
      ]
    },
    {
      "cell_type": "code",
      "execution_count": 12,
      "metadata": {
        "id": "DQShaNEw7N4r"
      },
      "outputs": [
        {
          "name": "stdout",
          "output_type": "stream",
          "text": [
            "30\n"
          ]
        }
      ],
      "source": [
        "# TODO: YOUR CODE HERE\n",
        "def add_numbers(num1, num2):\n",
        "    return num1 + num2\n",
        "\n",
        "result = add_numbers(10, 20)\n",
        "print(result)"
      ]
    },
    {
      "cell_type": "code",
      "execution_count": null,
      "metadata": {
        "id": "o0X_wyUW7Vl-"
      },
      "outputs": [],
      "source": [
        "# 미션: 텍스트 파일을 읽고, 파일의 각 줄을 역순으로 출력하세요.\n",
        "# 2~3줄의 문장이 들어있는 간단한 sample.txt 파일을 만들어주세요"
      ]
    },
    {
      "cell_type": "code",
      "execution_count": 23,
      "metadata": {
        "id": "3oF3l-lD7XPD"
      },
      "outputs": [
        {
          "name": "stdout",
          "output_type": "stream",
          "text": [
            "olleh\n",
            "dlrow\n"
          ]
        }
      ],
      "source": [
        "with open('sample.txt', 'r') as file:\n",
        "    lines = file.readlines()\n",
        "    reversed_lines = [line.strip()[::-1] for line in lines] # TODO: YOUR CODE HERE\n",
        "    for line in reversed_lines:\n",
        "        print(line)\n"
      ]
    },
    {
      "cell_type": "code",
      "execution_count": null,
      "metadata": {
        "id": "cLh17mxv8jxj"
      },
      "outputs": [],
      "source": [
        "# 미션: CSV 파일을 읽고, 'column_name' 열의 평균값을 계산하세요.\n",
        "# 먼저 data.csv파일을 만드는 코드셀을 실행하세요"
      ]
    },
    {
      "cell_type": "code",
      "execution_count": 24,
      "metadata": {
        "id": "Qw3tkjvDKbes"
      },
      "outputs": [
        {
          "name": "stdout",
          "output_type": "stream",
          "text": [
            "data.csv 파일이 성공적으로 생성되었습니다.\n"
          ]
        }
      ],
      "source": [
        "import csv\n",
        "\n",
        "# 데이터 정의\n",
        "data = [\n",
        "    ['column_group', 'column_name', 'other_column'],\n",
        "    ['A', 10, 5],\n",
        "    ['B', 20, 15],\n",
        "    ['D', 30, 25],\n",
        "    ['C', 40, 35],\n",
        "    ['A', 50, 45],\n",
        "    ['C', 60, 55],\n",
        "    ['A', 70, 65],\n",
        "    ['D', 80, 75],\n",
        "    ['B', 90, 85],\n",
        "    ['B', 100, 95]\n",
        "]\n",
        "\n",
        "# 파일 쓰기\n",
        "with open('data.csv', 'w', newline='') as file:\n",
        "    writer = csv.writer(file)\n",
        "    writer.writerows(data)\n",
        "\n",
        "print(\"data.csv 파일이 성공적으로 생성되었습니다.\")"
      ]
    },
    {
      "cell_type": "code",
      "execution_count": 25,
      "metadata": {
        "id": "K8dxRpHB8l1C"
      },
      "outputs": [
        {
          "name": "stdout",
          "output_type": "stream",
          "text": [
            "55.0\n"
          ]
        }
      ],
      "source": [
        "import pandas as pd\n",
        "\n",
        "df = pd.read_csv('data.csv')\n",
        "average_value = df['column_name'].mean()\n",
        "print(average_value)"
      ]
    },
    {
      "cell_type": "code",
      "execution_count": 30,
      "metadata": {
        "id": "SNzaeZ728sbq"
      },
      "outputs": [],
      "source": [
        "# 미션: 데이터 프레임에서 특정 조건('column_name'열 중 50초과)을 만족하는 행만 선택하세요."
      ]
    },
    {
      "cell_type": "code",
      "execution_count": 31,
      "metadata": {
        "id": "R5Xo6X4K8ujt"
      },
      "outputs": [
        {
          "name": "stdout",
          "output_type": "stream",
          "text": [
            "  column_group  column_name  other_column\n",
            "5            C           60            55\n",
            "6            A           70            65\n",
            "7            D           80            75\n",
            "8            B           90            85\n",
            "9            B          100            95\n"
          ]
        }
      ],
      "source": [
        "filtered_df = df.loc[(df['column_name'] > 50)]\n",
        "print(filtered_df)"
      ]
    },
    {
      "cell_type": "code",
      "execution_count": null,
      "metadata": {
        "id": "SepQLBHb9a6k"
      },
      "outputs": [],
      "source": [
        "# 미션: 데이터 프레임을 'column_group' 열에 의해 그룹화하고, 그룹별 합계를 계산하세요."
      ]
    },
    {
      "cell_type": "code",
      "execution_count": 32,
      "metadata": {
        "id": "lwJB45go9c0R"
      },
      "outputs": [
        {
          "name": "stdout",
          "output_type": "stream",
          "text": [
            "              column_name  other_column\n",
            "column_group                           \n",
            "A                     130           115\n",
            "B                     210           195\n",
            "C                     100            90\n",
            "D                     110           100\n"
          ]
        }
      ],
      "source": [
        "grouped_df = df.groupby('column_group').sum()\n",
        "print(grouped_df)"
      ]
    },
    {
      "cell_type": "markdown",
      "metadata": {},
      "source": []
    },
    {
      "cell_type": "code",
      "execution_count": 42,
      "metadata": {
        "id": "LAnBLD6UHBbf"
      },
      "outputs": [
        {
          "data": {
            "text/plain": [
              "[36, 22, 4, 7, 12, 31]"
            ]
          },
          "execution_count": 42,
          "metadata": {},
          "output_type": "execute_result"
        }
      ],
      "source": [
        "# 미션: 로또 번호 생성기\n",
        "# 주제: 1부터 45까지의 숫자 중에서 랜덤으로 6개의 로또 번호를 생성하는 프로그램을 작성하세요.\n",
        "# 요구사항: 6개의 숫자가 중복되지 않도록 랜덤으로 생성합니다.\n",
        "import random\n",
        "numbers = random.sample(range(1, 46), 6)\n",
        "\n",
        "numbers"
      ]
    },
    {
      "cell_type": "code",
      "execution_count": 48,
      "metadata": {
        "id": "ZEsaIhQdGtvn"
      },
      "outputs": [
        {
          "name": "stdout",
          "output_type": "stream",
          "text": [
            "작다\n",
            "68 10\n"
          ]
        }
      ],
      "source": [
        "# 미션: 숫자 맞추기 게임\n",
        "# 주제: 컴퓨터가 1에서 100 사이의 랜덤 숫자를 선택하고, 사용자가 이를 맞추는 게임을 만드세요.\n",
        "# 요구사항: 사용자가 숫자를 입력하면, 컴퓨터가 더 큰지 작은지를 알려주고, 맞출 때까지 반복합니다.\n",
        "import random\n",
        "num = random.randrange(1, 100)\n",
        "\n",
        "val = int(input(\"1에서 100\"))\n",
        "\n",
        "if val > num:\n",
        "    print(\"크다\")\n",
        "else:\n",
        "    print(\"작다\")\n",
        "    \n",
        "print(num, val)"
      ]
    },
    {
      "cell_type": "code",
      "execution_count": 43,
      "metadata": {
        "id": "e_HCY52GHHc4"
      },
      "outputs": [
        {
          "name": "stdout",
          "output_type": "stream",
          "text": [
            "2 * 2 = 4\n",
            "2 * 3 = 6\n",
            "2 * 4 = 8\n",
            "2 * 5 = 10\n",
            "2 * 6 = 12\n",
            "2 * 7 = 14\n",
            "2 * 8 = 16\n",
            "2 * 9 = 18\n",
            "3 * 2 = 6\n",
            "3 * 3 = 9\n",
            "3 * 4 = 12\n",
            "3 * 5 = 15\n",
            "3 * 6 = 18\n",
            "3 * 7 = 21\n",
            "3 * 8 = 24\n",
            "3 * 9 = 27\n",
            "4 * 2 = 8\n",
            "4 * 3 = 12\n",
            "4 * 4 = 16\n",
            "4 * 5 = 20\n",
            "4 * 6 = 24\n",
            "4 * 7 = 28\n",
            "4 * 8 = 32\n",
            "4 * 9 = 36\n",
            "5 * 2 = 10\n",
            "5 * 3 = 15\n",
            "5 * 4 = 20\n",
            "5 * 5 = 25\n",
            "5 * 6 = 30\n",
            "5 * 7 = 35\n",
            "5 * 8 = 40\n",
            "5 * 9 = 45\n",
            "6 * 2 = 12\n",
            "6 * 3 = 18\n",
            "6 * 4 = 24\n",
            "6 * 5 = 30\n",
            "6 * 6 = 36\n",
            "6 * 7 = 42\n",
            "6 * 8 = 48\n",
            "6 * 9 = 54\n",
            "7 * 2 = 14\n",
            "7 * 3 = 21\n",
            "7 * 4 = 28\n",
            "7 * 5 = 35\n",
            "7 * 6 = 42\n",
            "7 * 7 = 49\n",
            "7 * 8 = 56\n",
            "7 * 9 = 63\n",
            "8 * 2 = 16\n",
            "8 * 3 = 24\n",
            "8 * 4 = 32\n",
            "8 * 5 = 40\n",
            "8 * 6 = 48\n",
            "8 * 7 = 56\n",
            "8 * 8 = 64\n",
            "8 * 9 = 72\n",
            "9 * 2 = 18\n",
            "9 * 3 = 27\n",
            "9 * 4 = 36\n",
            "9 * 5 = 45\n",
            "9 * 6 = 54\n",
            "9 * 7 = 63\n",
            "9 * 8 = 72\n",
            "9 * 9 = 81\n"
          ]
        }
      ],
      "source": [
        "# 미션: 구구단 출력기\n",
        "# 주제: 2단부터 9단까지의 구구단을 출력하는 프로그램을 작성하세요.\n",
        "# 요구사항: 2단부터 9단까지의 곱셈 결과를 출력합니다.\n",
        "for x in range(2, 10):\n",
        "    for y in range(2, 10):\n",
        "        print(f\"{x} * {y} = {x*y}\")"
      ]
    }
  ],
  "metadata": {
    "colab": {
      "provenance": []
    },
    "kernelspec": {
      "display_name": "Python 3",
      "name": "python3"
    },
    "language_info": {
      "codemirror_mode": {
        "name": "ipython",
        "version": 3
      },
      "file_extension": ".py",
      "mimetype": "text/x-python",
      "name": "python",
      "nbconvert_exporter": "python",
      "pygments_lexer": "ipython3",
      "version": "3.12.4"
    }
  },
  "nbformat": 4,
  "nbformat_minor": 0
}
